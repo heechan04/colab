{
  "nbformat": 4,
  "nbformat_minor": 0,
  "metadata": {
    "colab": {
      "name": "3120-정희찬(논술형).ipynb",
      "provenance": [],
      "authorship_tag": "ABX9TyOjTsZ7P1wxeaMN1APQpPU0",
      "include_colab_link": true
    },
    "kernelspec": {
      "name": "python3",
      "display_name": "Python 3"
    },
    "language_info": {
      "name": "python"
    }
  },
  "cells": [
    {
      "cell_type": "markdown",
      "metadata": {
        "id": "view-in-github",
        "colab_type": "text"
      },
      "source": [
        "<a href=\"https://colab.research.google.com/github/heechan04/colab/blob/main/3120_%EC%A0%95%ED%9D%AC%EC%B0%AC(%EB%85%BC%EC%88%A0%ED%98%95).ipynb\" target=\"_parent\"><img src=\"https://colab.research.google.com/assets/colab-badge.svg\" alt=\"Open In Colab\"/></a>"
      ]
    },
    {
      "cell_type": "markdown",
      "source": [
        "2022학년도 응용프로그래밍 개발 - 논술형\n",
        "\n",
        "컴퓨터과 3학년 1반 20번 정희찬\n",
        "\n",
        "\n"
      ],
      "metadata": {
        "id": "Bvu5inIw6qrW"
      }
    },
    {
      "cell_type": "code",
      "execution_count": 10,
      "metadata": {
        "colab": {
          "base_uri": "https://localhost:8080/"
        },
        "id": "LQ6FU9-56dhs",
        "outputId": "2c1fb27f-36a1-4b8c-a2ea-2f8754d530d0"
      },
      "outputs": [
        {
          "output_type": "stream",
          "name": "stdout",
          "text": [
            "숫자 입력 : 6\n",
            "숫자 입력 2 : 5\n",
            "6.0 + 5.0 = 11.0\n",
            "6.0 - 5.0 = 1.0\n",
            "6.0 x 5.0 = 30.0\n",
            "6.0 / 5.0 = 1.2\n",
            "6.0 // 5.0 = 1.0\n",
            "6.0 % 5.0 = 1.0\n",
            "6.0 ** 5.0 = 7776.0\n"
          ]
        }
      ],
      "source": [
        "num1 = float(input(\"숫자 입력 : \"))\n",
        "num2 = float(input(\"숫자 입력 2 : \"))\n",
        "\n",
        "result1 = num1 + num2\n",
        "result2 = num1 - num2\n",
        "result3 = num1 * num2\n",
        "result4 = num1 / num2\n",
        "result5 = num1 // num2\n",
        "result6 = num1 % num2\n",
        "result7 = num1 ** num2\n",
        "\n",
        "print(num1, \"+\", num2, \"=\", result1)\n",
        "print(num1, \"-\", num2, \"=\", result2)\n",
        "print(num1, \"x\", num2, \"=\", result3)\n",
        "print(num1, \"/\", num2, \"=\", result4)\n",
        "print(num1, \"//\", num2, \"=\", result5)\n",
        "print(num1, \"%\", num2, \"=\", result6)\n",
        "print(num1, \"**\", num2, \"=\", result7)"
      ]
    }
  ]
}