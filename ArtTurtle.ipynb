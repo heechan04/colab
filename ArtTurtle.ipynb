{
  "nbformat": 4,
  "nbformat_minor": 0,
  "metadata": {
    "colab": {
      "provenance": [],
      "authorship_tag": "ABX9TyMAoqbpdhE+73nctT12DoBr",
      "include_colab_link": true
    },
    "kernelspec": {
      "name": "python3",
      "display_name": "Python 3"
    },
    "language_info": {
      "name": "python"
    }
  },
  "cells": [
    {
      "cell_type": "markdown",
      "metadata": {
        "id": "view-in-github",
        "colab_type": "text"
      },
      "source": [
        "<a href=\"https://colab.research.google.com/github/heechan04/colab/blob/main/ArtTurtle.ipynb\" target=\"_parent\"><img src=\"https://colab.research.google.com/assets/colab-badge.svg\" alt=\"Open In Colab\"/></a>"
      ]
    },
    {
      "cell_type": "markdown",
      "source": [
        "작품명 : 사춘기 거북이"
      ],
      "metadata": {
        "id": "Q3MQcN2oi93T"
      }
    },
    {
      "cell_type": "code",
      "execution_count": 31,
      "metadata": {
        "colab": {
          "base_uri": "https://localhost:8080/",
          "height": 1000
        },
        "id": "OMIfLCOvi87u",
        "outputId": "8f742da6-423f-46b9-f17e-62fe1bcb10e3"
      },
      "outputs": [
        {
          "output_type": "stream",
          "name": "stdout",
          "text": [
            "(800, 500)\n"
          ]
        },
        {
          "output_type": "display_data",
          "data": {
            "text/plain": [
              "<IPython.core.display.HTML object>"
            ],
            "text/html": [
              "\n",
              "      <svg width=\"800\" height=\"500\">\n",
              "        <rect width=\"100%\" height=\"100%\" fill=\"black\"/>\n",
              "        <line x1=\"400\" y1=\"250\" x2=\"366.598\" y2=\"12.336\" stroke-linecap=\"round\" style=\"stroke:rgb(188,41,50);stroke-width:4\"/><line x1=\"366.598\" y1=\"12.336\" x2=\"300.445\" y2=\"-218.367\" stroke-linecap=\"round\" style=\"stroke:rgb(174,41,122);stroke-width:4\"/><line x1=\"300.445\" y1=\"-218.367\" x2=\"400\" y2=\"250\" stroke-linecap=\"round\" style=\"stroke:rgb(174,41,122);stroke-width:4\"/><line x1=\"400\" y1=\"250\" x2=\"302.383\" y2=\"30.749\" stroke-linecap=\"round\" style=\"stroke:rgb(124,101,19);stroke-width:4\"/><line x1=\"302.383\" y1=\"30.749\" x2=\"175.202\" y2=\"-172.783\" stroke-linecap=\"round\" style=\"stroke:rgb(239,80,158);stroke-width:4\"/><line x1=\"175.202\" y1=\"-172.783\" x2=\"400\" y2=\"250\" stroke-linecap=\"round\" style=\"stroke:rgb(239,80,158);stroke-width:4\"/><line x1=\"400\" y1=\"250\" x2=\"245.731\" y2=\"66.149\" stroke-linecap=\"round\" style=\"stroke:rgb(240,163,218);stroke-width:4\"/><line x1=\"245.731\" y1=\"66.149\" x2=\"67.376\" y2=\"-94.442\" stroke-linecap=\"round\" style=\"stroke:rgb(93,232,82);stroke-width:4\"/><line x1=\"67.376\" y1=\"-94.442\" x2=\"400\" y2=\"250\" stroke-linecap=\"round\" style=\"stroke:rgb(93,232,82);stroke-width:4\"/><line x1=\"400\" y1=\"250\" x2=\"201.031\" y2=\"115.794\" stroke-linecap=\"round\" style=\"stroke:rgb(162,212,94);stroke-width:4\"/><line x1=\"201.031\" y1=\"115.794\" x2=\"-14.68\" y2=\"10.585\" stroke-linecap=\"round\" style=\"stroke:rgb(130,19,174);stroke-width:4\"/><line x1=\"-14.68\" y1=\"10.585\" x2=\"400\" y2=\"250\" stroke-linecap=\"round\" style=\"stroke:rgb(130,19,174);stroke-width:4\"/><line x1=\"400\" y1=\"250\" x2=\"171.746\" y2=\"175.836\" stroke-linecap=\"round\" style=\"stroke:rgb(8,206,112);stroke-width:4\"/><line x1=\"171.746\" y1=\"175.836\" x2=\"-64.608\" y2=\"134.16\" stroke-linecap=\"round\" style=\"stroke:rgb(7,132,97);stroke-width:4\"/><line x1=\"-64.608\" y1=\"134.16\" x2=\"400\" y2=\"250\" stroke-linecap=\"round\" style=\"stroke:rgb(7,132,97);stroke-width:4\"/><line x1=\"400\" y1=\"250\" x2=\"160.146\" y2=\"241.624\" stroke-linecap=\"round\" style=\"stroke:rgb(110,242,80);stroke-width:4\"/><line x1=\"160.146\" y1=\"241.624\" x2=\"-78.539\" y2=\"266.711\" stroke-linecap=\"round\" style=\"stroke:rgb(123,119,59);stroke-width:4\"/><line x1=\"-78.539\" y1=\"266.711\" x2=\"400\" y2=\"250\" stroke-linecap=\"round\" style=\"stroke:rgb(123,119,59);stroke-width:4\"/><line x1=\"400\" y1=\"250\" x2=\"167.129\" y2=\"308.061\" stroke-linecap=\"round\" style=\"stroke:rgb(119,119,201);stroke-width:4\"/><line x1=\"167.129\" y1=\"308.061\" x2=\"-55.395\" y2=\"397.967\" stroke-linecap=\"round\" style=\"stroke:rgb(143,210,208);stroke-width:4\"/><line x1=\"-55.395\" y1=\"397.967\" x2=\"400\" y2=\"250\" stroke-linecap=\"round\" style=\"stroke:rgb(143,210,208);stroke-width:4\"/><line x1=\"400\" y1=\"250\" x2=\"192.154\" y2=\"370.0\" stroke-linecap=\"round\" style=\"stroke:rgb(83,145,229);stroke-width:4\"/><line x1=\"192.154\" y1=\"370.0\" x2=\"3.031\" y2=\"517.759\" stroke-linecap=\"round\" style=\"stroke:rgb(201,77,131);stroke-width:4\"/><line x1=\"3.031\" y1=\"517.759\" x2=\"400\" y2=\"250\" stroke-linecap=\"round\" style=\"stroke:rgb(201,77,131);stroke-width:4\"/><line x1=\"400\" y1=\"250\" x2=\"233.282\" y2=\"422.642\" stroke-linecap=\"round\" style=\"stroke:rgb(61,139,194);stroke-width:4\"/><line x1=\"233.282\" y1=\"422.642\" x2=\"92.214\" y2=\"616.806\" stroke-linecap=\"round\" style=\"stroke:rgb(86,196,185);stroke-width:4\"/><line x1=\"92.214\" y1=\"616.806\" x2=\"400\" y2=\"250\" stroke-linecap=\"round\" style=\"stroke:rgb(86,196,185);stroke-width:4\"/><line x1=\"400\" y1=\"250\" x2=\"287.327\" y2=\"461.907\" stroke-linecap=\"round\" style=\"stroke:rgb(251,38,166);stroke-width:4\"/><line x1=\"287.327\" y1=\"461.907\" x2=\"205.242\" y2=\"687.433\" stroke-linecap=\"round\" style=\"stroke:rgb(107,78,108);stroke-width:4\"/><line x1=\"205.242\" y1=\"687.433\" x2=\"400\" y2=\"250\" stroke-linecap=\"round\" style=\"stroke:rgb(107,78,108);stroke-width:4\"/><line x1=\"400\" y1=\"250\" x2=\"350.101\" y2=\"484.755\" stroke-linecap=\"round\" style=\"stroke:rgb(222,230,199);stroke-width:4\"/><line x1=\"350.101\" y1=\"484.755\" x2=\"333.359\" y2=\"724.17\" stroke-linecap=\"round\" style=\"stroke:rgb(29,36,45);stroke-width:4\"/><line x1=\"333.359\" y1=\"724.17\" x2=\"400\" y2=\"250\" stroke-linecap=\"round\" style=\"stroke:rgb(29,36,45);stroke-width:4\"/><line x1=\"400\" y1=\"250\" x2=\"416.742\" y2=\"489.415\" stroke-linecap=\"round\" style=\"stroke:rgb(81,109,99);stroke-width:4\"/><line x1=\"416.742\" y1=\"489.415\" x2=\"466.641\" y2=\"724.17\" stroke-linecap=\"round\" style=\"stroke:rgb(89,14,111);stroke-width:4\"/><line x1=\"466.641\" y1=\"724.17\" x2=\"400\" y2=\"250\" stroke-linecap=\"round\" style=\"stroke:rgb(89,14,111);stroke-width:4\"/><line x1=\"400\" y1=\"250\" x2=\"482.085\" y2=\"475.526\" stroke-linecap=\"round\" style=\"stroke:rgb(37,80,163);stroke-width:4\"/><line x1=\"482.085\" y1=\"475.526\" x2=\"594.758\" y2=\"687.433\" stroke-linecap=\"round\" style=\"stroke:rgb(166,69,22);stroke-width:4\"/><line x1=\"594.758\" y1=\"687.433\" x2=\"400\" y2=\"250\" stroke-linecap=\"round\" style=\"stroke:rgb(166,69,22);stroke-width:4\"/><line x1=\"400\" y1=\"250\" x2=\"541.068\" y2=\"444.164\" stroke-linecap=\"round\" style=\"stroke:rgb(24,35,250);stroke-width:4\"/><line x1=\"541.068\" y1=\"444.164\" x2=\"707.786\" y2=\"616.806\" stroke-linecap=\"round\" style=\"stroke:rgb(210,164,229);stroke-width:4\"/><line x1=\"707.786\" y1=\"616.806\" x2=\"400\" y2=\"250\" stroke-linecap=\"round\" style=\"stroke:rgb(210,164,229);stroke-width:4\"/><line x1=\"400\" y1=\"250\" x2=\"589.123\" y2=\"397.759\" stroke-linecap=\"round\" style=\"stroke:rgb(12,28,144);stroke-width:4\"/><line x1=\"589.123\" y1=\"397.759\" x2=\"796.969\" y2=\"517.759\" stroke-linecap=\"round\" style=\"stroke:rgb(80,2,125);stroke-width:4\"/><line x1=\"796.969\" y1=\"517.759\" x2=\"400\" y2=\"250\" stroke-linecap=\"round\" style=\"stroke:rgb(80,2,125);stroke-width:4\"/><line x1=\"400\" y1=\"250\" x2=\"622.524\" y2=\"339.906\" stroke-linecap=\"round\" style=\"stroke:rgb(140,154,51);stroke-width:4\"/><line x1=\"622.524\" y1=\"339.906\" x2=\"855.395\" y2=\"397.967\" stroke-linecap=\"round\" style=\"stroke:rgb(171,174,131);stroke-width:4\"/><line x1=\"855.395\" y1=\"397.967\" x2=\"400\" y2=\"250\" stroke-linecap=\"round\" style=\"stroke:rgb(171,174,131);stroke-width:4\"/><line x1=\"400\" y1=\"250\" x2=\"638.685\" y2=\"275.087\" stroke-linecap=\"round\" style=\"stroke:rgb(152,213,67);stroke-width:4\"/><line x1=\"638.685\" y1=\"275.087\" x2=\"878.539\" y2=\"266.711\" stroke-linecap=\"round\" style=\"stroke:rgb(122,243,125);stroke-width:4\"/><line x1=\"878.539\" y1=\"266.711\" x2=\"400\" y2=\"250\" stroke-linecap=\"round\" style=\"stroke:rgb(122,243,125);stroke-width:4\"/><line x1=\"400\" y1=\"250\" x2=\"636.354\" y2=\"208.324\" stroke-linecap=\"round\" style=\"stroke:rgb(209,29,223);stroke-width:4\"/><line x1=\"636.354\" y1=\"208.324\" x2=\"864.608\" y2=\"134.16\" stroke-linecap=\"round\" style=\"stroke:rgb(146,100,224);stroke-width:4\"/><line x1=\"864.608\" y1=\"134.16\" x2=\"400\" y2=\"250\" stroke-linecap=\"round\" style=\"stroke:rgb(146,100,224);stroke-width:4\"/><line x1=\"400\" y1=\"250\" x2=\"615.711\" y2=\"144.791\" stroke-linecap=\"round\" style=\"stroke:rgb(123,8,108);stroke-width:4\"/><line x1=\"615.711\" y1=\"144.791\" x2=\"814.68\" y2=\"10.585\" stroke-linecap=\"round\" style=\"stroke:rgb(249,230,226);stroke-width:4\"/><line x1=\"814.68\" y1=\"10.585\" x2=\"400\" y2=\"250\" stroke-linecap=\"round\" style=\"stroke:rgb(249,230,226);stroke-width:4\"/><line x1=\"400\" y1=\"250\" x2=\"578.355\" y2=\"89.409\" stroke-linecap=\"round\" style=\"stroke:rgb(112,78,76);stroke-width:4\"/><line x1=\"578.355\" y1=\"89.409\" x2=\"732.624\" y2=\"-94.442\" stroke-linecap=\"round\" style=\"stroke:rgb(179,72,141);stroke-width:4\"/><line x1=\"732.624\" y1=\"-94.442\" x2=\"400\" y2=\"250\" stroke-linecap=\"round\" style=\"stroke:rgb(179,72,141);stroke-width:4\"/><line x1=\"400\" y1=\"250\" x2=\"527.181\" y2=\"46.468\" stroke-linecap=\"round\" style=\"stroke:rgb(94,64,25);stroke-width:4\"/><line x1=\"527.181\" y1=\"46.468\" x2=\"624.798\" y2=\"-172.783\" stroke-linecap=\"round\" style=\"stroke:rgb(235,202,84);stroke-width:4\"/><line x1=\"624.798\" y1=\"-172.783\" x2=\"400\" y2=\"250\" stroke-linecap=\"round\" style=\"stroke:rgb(235,202,84);stroke-width:4\"/><line x1=\"400\" y1=\"250\" x2=\"466.153\" y2=\"19.297\" stroke-linecap=\"round\" style=\"stroke:rgb(204,41,22);stroke-width:4\"/><line x1=\"466.153\" y1=\"19.297\" x2=\"499.555\" y2=\"-218.367\" stroke-linecap=\"round\" style=\"stroke:rgb(1,230,180);stroke-width:4\"/><line x1=\"499.555\" y1=\"-218.367\" x2=\"400\" y2=\"250\" stroke-linecap=\"round\" style=\"stroke:rgb(1,230,180);stroke-width:4\"/><line x1=\"400\" y1=\"250\" x2=\"400.0\" y2=\"10.0\" stroke-linecap=\"round\" style=\"stroke:rgb(191,98,248);stroke-width:4\"/><line x1=\"400.0\" y1=\"10.0\" x2=\"366.598\" y2=\"-227.664\" stroke-linecap=\"round\" style=\"stroke:rgb(10,29,172);stroke-width:4\"/><line x1=\"366.598\" y1=\"-227.664\" x2=\"400\" y2=\"250\" stroke-linecap=\"round\" style=\"stroke:rgb(10,29,172);stroke-width:4\"/>\n",
              "        <g visibility=visible transform=\"rotate(344,400,250) translate(382, 232)\">\n",
              "<path style=\" stroke:none;fill-rule:evenodd;fill:rgb(162,80,230);fill-opacity:1;\" d=\"M 18.214844 0.632812 C 16.109375 1.800781 15.011719 4.074219 15.074219 7.132812 L 15.085938 7.652344 L 14.785156 7.496094 C 13.476562 6.824219 11.957031 6.671875 10.40625 7.066406 C 8.46875 7.550781 6.515625 9.15625 4.394531 11.992188 C 3.0625 13.777344 2.679688 14.636719 3.042969 15.027344 L 3.15625 15.152344 L 3.519531 15.152344 C 4.238281 15.152344 4.828125 14.886719 8.1875 13.039062 C 9.386719 12.378906 10.371094 11.839844 10.378906 11.839844 C 10.386719 11.839844 10.355469 11.929688 10.304688 12.035156 C 9.832031 13.09375 9.257812 14.820312 8.96875 16.078125 C 7.914062 20.652344 8.617188 24.53125 11.070312 27.660156 C 11.351562 28.015625 11.363281 27.914062 10.972656 28.382812 C 8.925781 30.84375 7.945312 33.28125 8.238281 35.1875 C 8.289062 35.527344 8.28125 35.523438 8.917969 35.523438 C 10.941406 35.523438 13.074219 34.207031 15.136719 31.6875 C 15.359375 31.417969 15.328125 31.425781 15.5625 31.574219 C 16.292969 32.042969 18.023438 32.964844 18.175781 32.964844 C 18.335938 32.964844 19.941406 32.210938 20.828125 31.71875 C 20.996094 31.625 21.136719 31.554688 21.136719 31.558594 C 21.203125 31.664062 21.898438 32.414062 22.222656 32.730469 C 23.835938 34.300781 25.5625 35.132812 27.582031 35.300781 C 27.90625 35.328125 27.9375 35.308594 28.007812 34.984375 C 28.382812 33.242188 27.625 30.925781 25.863281 28.425781 L 25.542969 27.96875 L 25.699219 27.785156 C 28.945312 23.960938 29.132812 18.699219 26.257812 11.96875 L 26.207031 11.84375 L 27.945312 12.703125 C 31.53125 14.476562 32.316406 14.800781 33.03125 14.800781 C 33.976562 14.800781 33.78125 13.9375 32.472656 12.292969 C 28.519531 7.355469 25.394531 5.925781 21.921875 7.472656 L 21.558594 7.636719 L 21.578125 7.542969 C 21.699219 6.992188 21.761719 5.742188 21.699219 5.164062 C 21.496094 3.296875 20.664062 1.964844 19.003906 0.855469 C 18.480469 0.503906 18.457031 0.5 18.214844 0.632812\"/>\n",
              "</g>\n",
              "      </svg>\n",
              "    "
            ]
          },
          "metadata": {}
        },
        {
          "output_type": "stream",
          "name": "stdout",
          "text": [
            "366.598 12.336\n",
            "400 250\n",
            "302.383 30.749\n",
            "400 250\n",
            "245.731 66.149\n",
            "400 250\n",
            "201.031 115.794\n",
            "400 250\n",
            "171.746 175.836\n",
            "400 250\n",
            "160.146 241.624\n",
            "400 250\n",
            "167.129 308.061\n",
            "400 250\n",
            "192.154 370.0\n",
            "400 250\n",
            "233.282 422.642\n",
            "400 250\n",
            "287.327 461.907\n",
            "400 250\n",
            "350.101 484.755\n",
            "400 250\n",
            "416.742 489.415\n",
            "400 250\n",
            "482.085 475.526\n",
            "400 250\n",
            "541.068 444.164\n",
            "400 250\n",
            "589.123 397.759\n",
            "400 250\n",
            "622.524 339.906\n",
            "400 250\n",
            "638.685 275.087\n",
            "400 250\n",
            "636.354 208.324\n",
            "400 250\n",
            "615.711 144.791\n",
            "400 250\n",
            "578.355 89.409\n",
            "400 250\n",
            "527.181 46.468\n",
            "400 250\n",
            "466.153 19.297\n",
            "400 250\n",
            "400.0 10.0\n",
            "400 250\n"
          ]
        },
        {
          "output_type": "error",
          "ename": "KeyboardInterrupt",
          "evalue": "ignored",
          "traceback": [
            "\u001b[0;31m---------------------------------------------------------------------------\u001b[0m",
            "\u001b[0;31mKeyboardInterrupt\u001b[0m                         Traceback (most recent call last)",
            "\u001b[0;32m<ipython-input-31-532841414c6f>\u001b[0m in \u001b[0;36m<module>\u001b[0;34m\u001b[0m\n\u001b[1;32m      8\u001b[0m   \u001b[0mturtle\u001b[0m\u001b[0;34m.\u001b[0m\u001b[0mleft\u001b[0m\u001b[0;34m(\u001b[0m\u001b[0;36m8\u001b[0m\u001b[0;34m)\u001b[0m\u001b[0;34m\u001b[0m\u001b[0;34m\u001b[0m\u001b[0m\n\u001b[1;32m      9\u001b[0m   \u001b[0mturtle\u001b[0m\u001b[0;34m.\u001b[0m\u001b[0mcolor\u001b[0m\u001b[0;34m(\u001b[0m\u001b[0;34m(\u001b[0m\u001b[0mrandom\u001b[0m\u001b[0;34m.\u001b[0m\u001b[0mrandint\u001b[0m\u001b[0;34m(\u001b[0m\u001b[0;36m0\u001b[0m\u001b[0;34m,\u001b[0m\u001b[0;36m255\u001b[0m\u001b[0;34m)\u001b[0m\u001b[0;34m,\u001b[0m\u001b[0mrandom\u001b[0m\u001b[0;34m.\u001b[0m\u001b[0mrandint\u001b[0m\u001b[0;34m(\u001b[0m\u001b[0;36m0\u001b[0m\u001b[0;34m,\u001b[0m\u001b[0;36m255\u001b[0m\u001b[0;34m)\u001b[0m\u001b[0;34m,\u001b[0m\u001b[0mrandom\u001b[0m\u001b[0;34m.\u001b[0m\u001b[0mrandint\u001b[0m\u001b[0;34m(\u001b[0m\u001b[0;36m0\u001b[0m\u001b[0;34m,\u001b[0m\u001b[0;36m255\u001b[0m\u001b[0;34m)\u001b[0m\u001b[0;34m)\u001b[0m\u001b[0;34m)\u001b[0m\u001b[0;34m\u001b[0m\u001b[0;34m\u001b[0m\u001b[0m\n\u001b[0;32m---> 10\u001b[0;31m   \u001b[0mturtle\u001b[0m\u001b[0;34m.\u001b[0m\u001b[0mforward\u001b[0m\u001b[0;34m(\u001b[0m\u001b[0;36m240\u001b[0m\u001b[0;34m)\u001b[0m\u001b[0;34m\u001b[0m\u001b[0;34m\u001b[0m\u001b[0m\n\u001b[0m\u001b[1;32m     11\u001b[0m   \u001b[0;32mif\u001b[0m \u001b[0;36m800\u001b[0m \u001b[0;34m<=\u001b[0m \u001b[0mturtle\u001b[0m\u001b[0;34m.\u001b[0m\u001b[0mgetx\u001b[0m\u001b[0;34m(\u001b[0m\u001b[0;34m)\u001b[0m \u001b[0;32mor\u001b[0m \u001b[0mturtle\u001b[0m\u001b[0;34m.\u001b[0m\u001b[0mgetx\u001b[0m\u001b[0;34m(\u001b[0m\u001b[0;34m)\u001b[0m \u001b[0;34m<=\u001b[0m\u001b[0;36m0\u001b[0m \u001b[0;32mor\u001b[0m\u001b[0;31m \u001b[0m\u001b[0;31m\\\u001b[0m\u001b[0;34m\u001b[0m\u001b[0;34m\u001b[0m\u001b[0m\n\u001b[1;32m     12\u001b[0m   \u001b[0;36m500\u001b[0m \u001b[0;34m<=\u001b[0m \u001b[0mturtle\u001b[0m\u001b[0;34m.\u001b[0m\u001b[0mgety\u001b[0m\u001b[0;34m(\u001b[0m\u001b[0;34m)\u001b[0m \u001b[0;32mor\u001b[0m \u001b[0mturtle\u001b[0m\u001b[0;34m.\u001b[0m\u001b[0mgety\u001b[0m\u001b[0;34m(\u001b[0m\u001b[0;34m)\u001b[0m \u001b[0;34m<=\u001b[0m\u001b[0;36m0\u001b[0m \u001b[0;34m:\u001b[0m\u001b[0;34m\u001b[0m\u001b[0;34m\u001b[0m\u001b[0m\n",
            "\u001b[0;32m/usr/local/lib/python3.7/dist-packages/ColabTurtle/Turtle.py\u001b[0m in \u001b[0;36mforward\u001b[0;34m(units)\u001b[0m\n\u001b[1;32m    172\u001b[0m     \u001b[0mending_point\u001b[0m \u001b[0;34m=\u001b[0m \u001b[0;34m(\u001b[0m\u001b[0mturtle_pos\u001b[0m\u001b[0;34m[\u001b[0m\u001b[0;36m0\u001b[0m\u001b[0;34m]\u001b[0m \u001b[0;34m+\u001b[0m \u001b[0munits\u001b[0m \u001b[0;34m*\u001b[0m \u001b[0mmath\u001b[0m\u001b[0;34m.\u001b[0m\u001b[0mcos\u001b[0m\u001b[0;34m(\u001b[0m\u001b[0malpha\u001b[0m\u001b[0;34m)\u001b[0m\u001b[0;34m,\u001b[0m \u001b[0mturtle_pos\u001b[0m\u001b[0;34m[\u001b[0m\u001b[0;36m1\u001b[0m\u001b[0;34m]\u001b[0m \u001b[0;34m+\u001b[0m \u001b[0munits\u001b[0m \u001b[0;34m*\u001b[0m \u001b[0mmath\u001b[0m\u001b[0;34m.\u001b[0m\u001b[0msin\u001b[0m\u001b[0;34m(\u001b[0m\u001b[0malpha\u001b[0m\u001b[0;34m)\u001b[0m\u001b[0;34m)\u001b[0m\u001b[0;34m\u001b[0m\u001b[0;34m\u001b[0m\u001b[0m\n\u001b[1;32m    173\u001b[0m \u001b[0;34m\u001b[0m\u001b[0m\n\u001b[0;32m--> 174\u001b[0;31m     \u001b[0m_moveToNewPosition\u001b[0m\u001b[0;34m(\u001b[0m\u001b[0mending_point\u001b[0m\u001b[0;34m)\u001b[0m\u001b[0;34m\u001b[0m\u001b[0;34m\u001b[0m\u001b[0m\n\u001b[0m\u001b[1;32m    175\u001b[0m \u001b[0;34m\u001b[0m\u001b[0m\n\u001b[1;32m    176\u001b[0m \u001b[0mfd\u001b[0m \u001b[0;34m=\u001b[0m \u001b[0mforward\u001b[0m \u001b[0;31m# alias\u001b[0m\u001b[0;34m\u001b[0m\u001b[0;34m\u001b[0m\u001b[0m\n",
            "\u001b[0;32m/usr/local/lib/python3.7/dist-packages/ColabTurtle/Turtle.py\u001b[0m in \u001b[0;36m_moveToNewPosition\u001b[0;34m(new_pos)\u001b[0m\n\u001b[1;32m    161\u001b[0m \u001b[0;34m\u001b[0m\u001b[0m\n\u001b[1;32m    162\u001b[0m     \u001b[0mturtle_pos\u001b[0m \u001b[0;34m=\u001b[0m \u001b[0mnew_pos\u001b[0m\u001b[0;34m\u001b[0m\u001b[0;34m\u001b[0m\u001b[0m\n\u001b[0;32m--> 163\u001b[0;31m     \u001b[0m_updateDrawing\u001b[0m\u001b[0;34m(\u001b[0m\u001b[0;34m)\u001b[0m\u001b[0;34m\u001b[0m\u001b[0;34m\u001b[0m\u001b[0m\n\u001b[0m\u001b[1;32m    164\u001b[0m \u001b[0;34m\u001b[0m\u001b[0m\n\u001b[1;32m    165\u001b[0m \u001b[0;34m\u001b[0m\u001b[0m\n",
            "\u001b[0;32m/usr/local/lib/python3.7/dist-packages/ColabTurtle/Turtle.py\u001b[0m in \u001b[0;36m_updateDrawing\u001b[0;34m()\u001b[0m\n\u001b[1;32m    143\u001b[0m     \u001b[0;32mif\u001b[0m \u001b[0mdrawing_window\u001b[0m \u001b[0;34m==\u001b[0m \u001b[0;32mNone\u001b[0m\u001b[0;34m:\u001b[0m\u001b[0;34m\u001b[0m\u001b[0;34m\u001b[0m\u001b[0m\n\u001b[1;32m    144\u001b[0m         \u001b[0;32mraise\u001b[0m \u001b[0mAttributeError\u001b[0m\u001b[0;34m(\u001b[0m\u001b[0;34m\"Display has not been initialized yet. Call initializeTurtle() before using.\"\u001b[0m\u001b[0;34m)\u001b[0m\u001b[0;34m\u001b[0m\u001b[0;34m\u001b[0m\u001b[0m\n\u001b[0;32m--> 145\u001b[0;31m     \u001b[0mtime\u001b[0m\u001b[0;34m.\u001b[0m\u001b[0msleep\u001b[0m\u001b[0;34m(\u001b[0m\u001b[0m_speedToSec\u001b[0m\u001b[0;34m(\u001b[0m\u001b[0mturtle_speed\u001b[0m\u001b[0;34m)\u001b[0m\u001b[0;34m)\u001b[0m\u001b[0;34m\u001b[0m\u001b[0;34m\u001b[0m\u001b[0m\n\u001b[0m\u001b[1;32m    146\u001b[0m     \u001b[0mdrawing_window\u001b[0m\u001b[0;34m.\u001b[0m\u001b[0mupdate\u001b[0m\u001b[0;34m(\u001b[0m\u001b[0mHTML\u001b[0m\u001b[0;34m(\u001b[0m\u001b[0m_generateSvgDrawing\u001b[0m\u001b[0;34m(\u001b[0m\u001b[0;34m)\u001b[0m\u001b[0;34m)\u001b[0m\u001b[0;34m)\u001b[0m\u001b[0;34m\u001b[0m\u001b[0;34m\u001b[0m\u001b[0m\n\u001b[1;32m    147\u001b[0m \u001b[0;34m\u001b[0m\u001b[0m\n",
            "\u001b[0;31mKeyboardInterrupt\u001b[0m: "
          ]
        }
      ],
      "source": [
        "#!pip3 install ColabTurtle\n",
        "import ColabTurtle.Turtle as turtle\n",
        "import random\n",
        "print(turtle.DEFAULT_WINDOW_SIZE)\n",
        "turtle.initializeTurtle()\n",
        "a = 100\n",
        "while True :\n",
        "  turtle.left(8)\n",
        "  turtle.color((random.randint(0,255),random.randint(0,255),random.randint(0,255)))\n",
        "  turtle.forward(240)\n",
        "  if 800 <= turtle.getx() or turtle.getx() <=0 or \\\n",
        "  500 <= turtle.gety() or turtle.gety() <=0 :\n",
        "    turtle.goto(400,250)\n",
        "  a = a - 1\n",
        "  if a == 0 :\n",
        "    break\n",
        "\n",
        "  print(turtle.getx(), turtle.gety())"
      ]
    }
  ]
}