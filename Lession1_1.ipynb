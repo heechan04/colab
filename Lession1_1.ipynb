{
  "nbformat": 4,
  "nbformat_minor": 0,
  "metadata": {
    "colab": {
      "name": "Lession1-1.ipynb",
      "provenance": [],
      "authorship_tag": "ABX9TyOLKsJlzP5yKbyqBXJqdg4E",
      "include_colab_link": true
    },
    "kernelspec": {
      "name": "python3",
      "display_name": "Python 3"
    },
    "language_info": {
      "name": "python"
    }
  },
  "cells": [
    {
      "cell_type": "markdown",
      "metadata": {
        "id": "view-in-github",
        "colab_type": "text"
      },
      "source": [
        "<a href=\"https://colab.research.google.com/github/heechan04/colab/blob/main/Lession1_1.ipynb\" target=\"_parent\"><img src=\"https://colab.research.google.com/assets/colab-badge.svg\" alt=\"Open In Colab\"/></a>"
      ]
    },
    {
      "cell_type": "markdown",
      "source": [
        "# 파이썬 시작하기\n",
        "\n",
        "* 프로그래밍 언어\n",
        " * 컴퓨터와 스마트폰에 들어있는 많은 소프트웨어\n",
        "  유튜브, 메시지, 전화, 카카오톡 등\n",
        " * 프로그램, 소프트웨어(Software), 애플리케이션(Application), 앱\n",
        " (App), 응용 프로그램 모두 동일한 용어입니다.\n",
        "\n",
        "* 프로그래밍(Programming)\n",
        " * 프로그램을 만드는 작업\n",
        "* 프로그래밍 언어(Programming language)\n",
        " * 사람이 이해하는 말을 언어라고 부르듯이 컴퓨터가 이해하는 언어를 의미\n",
        "* 프로그래머(Programmer)\n",
        " * 프로그래밍 언어를 사용하여 소프트웨어나 앱을 만드는 직업을 가진 사람을 의미\n",
        "\n",
        "\n"
      ],
      "metadata": {
        "id": "TzO8J4t6Ggz-"
      }
    },
    {
      "cell_type": "markdown",
      "source": [
        "예제"
      ],
      "metadata": {
        "id": "SrcSMw3FPME1"
      }
    },
    {
      "cell_type": "code",
      "execution_count": 2,
      "metadata": {
        "colab": {
          "base_uri": "https://localhost:8080/"
        },
        "id": "xBeZWtXdGao5",
        "outputId": "e86d09f1-acba-4513-9794-bc0bc930f4f3"
      },
      "outputs": [
        {
          "output_type": "stream",
          "name": "stdout",
          "text": [
            "400\n"
          ]
        }
      ],
      "source": [
        "print(100+300)"
      ]
    },
    {
      "cell_type": "code",
      "source": [
        "print(200/3*4)"
      ],
      "metadata": {
        "colab": {
          "base_uri": "https://localhost:8080/"
        },
        "id": "uLkFTjFLPRFH",
        "outputId": "e8e778b1-a1ed-4a10-c1f3-f661cadf51ef"
      },
      "execution_count": 3,
      "outputs": [
        {
          "output_type": "stream",
          "name": "stdout",
          "text": [
            "266.6666666666667\n"
          ]
        }
      ]
    },
    {
      "cell_type": "code",
      "source": [
        "print(\"난생 처음 파이썬을\")\n",
        "print(\"열심히 공부 중 입니다.\")\n",
        "print(\"이젠 저도 파이썬 프로그래머입니다. ^^\")"
      ],
      "metadata": {
        "colab": {
          "base_uri": "https://localhost:8080/"
        },
        "id": "MHsZCN2APv0k",
        "outputId": "fb83a8a1-3045-4208-f18d-67de76e0e3bd"
      },
      "execution_count": 4,
      "outputs": [
        {
          "output_type": "stream",
          "name": "stdout",
          "text": [
            "난생 처음 파이썬을\n",
            "열심히 공부 중 입니다.\n",
            "이젠 저도 파이썬 프로그래머입니다. ^^\n"
          ]
        }
      ]
    }
  ]
}