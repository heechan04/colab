{
  "nbformat": 4,
  "nbformat_minor": 0,
  "metadata": {
    "colab": {
      "name": "Lession2-1.ipynb",
      "provenance": [],
      "authorship_tag": "ABX9TyOvHb9VtqOO+ZLibBqK3q2F",
      "include_colab_link": true
    },
    "kernelspec": {
      "name": "python3",
      "display_name": "Python 3"
    },
    "language_info": {
      "name": "python"
    }
  },
  "cells": [
    {
      "cell_type": "markdown",
      "metadata": {
        "id": "view-in-github",
        "colab_type": "text"
      },
      "source": [
        "<a href=\"https://colab.research.google.com/github/heechan04/colab/blob/main/Lession2_1.ipynb\" target=\"_parent\"><img src=\"https://colab.research.google.com/assets/colab-badge.svg\" alt=\"Open In Colab\"/></a>"
      ]
    },
    {
      "cell_type": "markdown",
      "source": [
        "2장 예제"
      ],
      "metadata": {
        "id": "nKqwORnYkdGm"
      }
    },
    {
      "cell_type": "code",
      "execution_count": 1,
      "metadata": {
        "colab": {
          "base_uri": "https://localhost:8080/"
        },
        "id": "dP7pV9UdjzdQ",
        "outputId": "65e58f7d-6b66-43b8-a933-8cba35794ab4"
      },
      "outputs": [
        {
          "output_type": "stream",
          "name": "stdout",
          "text": [
            "100 + 200 = 300\n"
          ]
        }
      ],
      "source": [
        "a = 100\n",
        "b = 200\n",
        "c = a + b\n",
        "\n",
        "print(a, \"+\", b, \"=\", c)"
      ]
    },
    {
      "cell_type": "code",
      "source": [
        "num1 = 500\n",
        "num2 = 200\n",
        "result = num1 - num2\n",
        "print(num1, \"-\", num2, \"=\", result)"
      ],
      "metadata": {
        "colab": {
          "base_uri": "https://localhost:8080/"
        },
        "id": "8ot9zt-rloid",
        "outputId": "f93d2d34-05c6-492f-85a7-dbe8286a6bb0"
      },
      "execution_count": 3,
      "outputs": [
        {
          "output_type": "stream",
          "name": "stdout",
          "text": [
            "500 - 200 = 300\n"
          ]
        }
      ]
    },
    {
      "cell_type": "code",
      "source": [
        "num1 = 8\n",
        "num2 = 17\n",
        "result = num1 * num2\n",
        "print(num1, \"x\", num2, \"=\", result)"
      ],
      "metadata": {
        "colab": {
          "base_uri": "https://localhost:8080/"
        },
        "id": "ldssEamamLpk",
        "outputId": "f10fa0f1-559f-424c-e9ba-b811ca843859"
      },
      "execution_count": 5,
      "outputs": [
        {
          "output_type": "stream",
          "name": "stdout",
          "text": [
            "8 x 17 = 136\n"
          ]
        }
      ]
    },
    {
      "cell_type": "code",
      "source": [
        "num1 = 8\n",
        "num2 = 17\n",
        "result = num1 / num2\n",
        "print(num1, \"/\", num2, \"=\", result)"
      ],
      "metadata": {
        "colab": {
          "base_uri": "https://localhost:8080/"
        },
        "id": "0MmaiRc1mhim",
        "outputId": "c1bcd902-6143-41fa-9cec-3126d3eafbc3"
      },
      "execution_count": 7,
      "outputs": [
        {
          "output_type": "stream",
          "name": "stdout",
          "text": [
            "8 / 17 = 0.47058823529411764\n"
          ]
        }
      ]
    },
    {
      "cell_type": "markdown",
      "source": [
        "나머지 구하는 연산자 : %"
      ],
      "metadata": {
        "id": "odZPYGhanLIc"
      }
    },
    {
      "cell_type": "code",
      "source": [
        "num1, num2 = 4, 2\n",
        "result = num1 % num2\n",
        "print(num1, \"%\", num2, \"=\", result)"
      ],
      "metadata": {
        "colab": {
          "base_uri": "https://localhost:8080/"
        },
        "id": "mxi-kLAbmzY2",
        "outputId": "5df29752-9bf2-46d5-9a2b-1da0e9cdbb4a"
      },
      "execution_count": 8,
      "outputs": [
        {
          "output_type": "stream",
          "name": "stdout",
          "text": [
            "4 % 2 = 0\n"
          ]
        }
      ]
    },
    {
      "cell_type": "markdown",
      "source": [
        "몫을 구하는 연산자 : //"
      ],
      "metadata": {
        "id": "cA6Kyko2nUwM"
      }
    },
    {
      "cell_type": "code",
      "source": [
        "num1, num2 = 4, 2\n",
        "result = num1 // num2\n",
        "print(num1, \"//\", num2, \"=\", result)"
      ],
      "metadata": {
        "colab": {
          "base_uri": "https://localhost:8080/"
        },
        "id": "xv_tbGwjnTVE",
        "outputId": "9d15ee49-7092-4b7c-e07c-49e9e3742bcc"
      },
      "execution_count": 9,
      "outputs": [
        {
          "output_type": "stream",
          "name": "stdout",
          "text": [
            "4 // 2 = 2\n"
          ]
        }
      ]
    },
    {
      "cell_type": "markdown",
      "source": [
        "문자열 연산자 : +, *"
      ],
      "metadata": {
        "id": "PPUcg0zvoLjg"
      }
    },
    {
      "cell_type": "code",
      "source": [
        "str1 = \"안산공고\"\n",
        "str2 = \"컴퓨터과\"\n",
        "result = str1 + str2\n",
        "print(str1, \"+\", str2, \"=\", result)"
      ],
      "metadata": {
        "colab": {
          "base_uri": "https://localhost:8080/"
        },
        "id": "ruTVzPcNoPL0",
        "outputId": "12b78d3b-f969-4e7a-bed4-16b426d88323"
      },
      "execution_count": 10,
      "outputs": [
        {
          "output_type": "stream",
          "name": "stdout",
          "text": [
            "안산공고 + 컴퓨터과 = 안산공고컴퓨터과\n"
          ]
        }
      ]
    },
    {
      "cell_type": "code",
      "source": [
        "str1 = \"안산공고\"\n",
        "result = str1 * 3\n",
        "print(str1, \"*\", 3, \"=\", result)"
      ],
      "metadata": {
        "colab": {
          "base_uri": "https://localhost:8080/"
        },
        "id": "MeKqBvGfojND",
        "outputId": "c0fdb6e7-7eda-4af7-f531-e9a42eaed64a"
      },
      "execution_count": 11,
      "outputs": [
        {
          "output_type": "stream",
          "name": "stdout",
          "text": [
            "안산공고 * 3 = 안산공고안산공고안산공고\n"
          ]
        }
      ]
    },
    {
      "cell_type": "markdown",
      "source": [
        "2장 형성평가 1"
      ],
      "metadata": {
        "id": "UfdwyEu_pMo9"
      }
    },
    {
      "cell_type": "code",
      "source": [
        "a = 100\n",
        "b = 200\n",
        "c1 = a + b\n",
        "c2 = a - b\n",
        "c3 = a * b\n",
        "c4 = a / b\n",
        "print(a, \"+\", b, \"=\", c1)\n",
        "print(a, \"-\", b, \"=\", c2)\n",
        "print(a, \"*\", b, \"=\", c3)\n",
        "print(a, \"/\", b, \"=\", c4)"
      ],
      "metadata": {
        "colab": {
          "base_uri": "https://localhost:8080/"
        },
        "id": "w4xM1jHQpJA0",
        "outputId": "f36bd6ce-ea3a-4ab0-d252-38e1294f1760"
      },
      "execution_count": 18,
      "outputs": [
        {
          "output_type": "stream",
          "name": "stdout",
          "text": [
            "100 + 200 = 300\n",
            "100 - 200 = -100\n",
            "100 * 200 = 20000\n",
            "100 / 200 = 0.5\n"
          ]
        }
      ]
    },
    {
      "cell_type": "markdown",
      "source": [
        "input()함수의 사용 예"
      ],
      "metadata": {
        "id": "h4J5ywHtsRhr"
      }
    },
    {
      "cell_type": "code",
      "source": [
        "num1 = int(input(\"첫 번2째 숫자 입력 ==>\"))\n",
        "num2 = int(input(\"두 번째 숫자 입력 ==>\"))\n",
        "result = num1 + num2\n",
        "print(num1, \"+\", num2, \"=\", result)"
      ],
      "metadata": {
        "colab": {
          "base_uri": "https://localhost:8080/"
        },
        "id": "aBy5YnNDryk0",
        "outputId": "6a729bec-1ee5-4675-c795-44b7c531a3cc"
      },
      "execution_count": 24,
      "outputs": [
        {
          "output_type": "stream",
          "name": "stdout",
          "text": [
            "첫 번2째 숫자 입력 ==>100\n",
            "두 번째 숫자 입력 ==>200\n",
            "100 + 200 = 300\n"
          ]
        }
      ]
    },
    {
      "cell_type": "code",
      "source": [
        "num1 = input(\"이름 ==>\")\n",
        "num2 = input(\"전화번호 ==>\")\n",
        "print(\"제 이름은 \",num1, \" 이고, 연락처는 \",num2, \"입니다.\")"
      ],
      "metadata": {
        "colab": {
          "base_uri": "https://localhost:8080/"
        },
        "id": "YoovMV3etXE0",
        "outputId": "093193ed-869f-4093-ac4f-036c8cba0cae"
      },
      "execution_count": 29,
      "outputs": [
        {
          "output_type": "stream",
          "name": "stdout",
          "text": [
            "이름 ==>정희찬\n",
            "전화번호 ==>010-2481-5224\n",
            "제 이름은  정희찬  이고, 연락처는  010-2481-5224 입니다.\n"
          ]
        }
      ]
    },
    {
      "cell_type": "code",
      "source": [
        "print(\"## 택배를 보내기 위한 정보를 입력하세요. ##\")\n",
        "personName = input(\"받는 사람 : \")\n",
        "personAddr = input(\"주소 : \")\n",
        "weight = int(input(\"무게(g) : \"))\n",
        "print(\"** 받는 사람 ==>\",id)\n",
        "print(\"** 주소 ==>\",adr)\n",
        "print(\"** 배송비 ==>\",weight * 5,\"원\")"
      ],
      "metadata": {
        "colab": {
          "base_uri": "https://localhost:8080/"
        },
        "id": "WkFHY3kQuB6D",
        "outputId": "effe7c08-5bb9-47da-d490-24abeb07f7d0"
      },
      "execution_count": 32,
      "outputs": [
        {
          "output_type": "stream",
          "name": "stdout",
          "text": [
            "## 택배를 보내기 위한 정보를 입력하세요. ##\n",
            "받는 사람 : 정희찬\n",
            "주소 : 안산시\n",
            "무게(g) : 300\n",
            "** 받는 사람 ==> 정희찬\n",
            "** 주소 ==> 안산시\n",
            "** 배송비 ==> 1500 원\n"
          ]
        }
      ]
    },
    {
      "cell_type": "code",
      "source": [
        "num1 = int(input(\"숫자1 ==> \"))\n",
        "num2 = int(input(\"숫자2 ==> \"))\n",
        "print(num1, \"+\", num2, \"=\", num1 + num2)"
      ],
      "metadata": {
        "colab": {
          "base_uri": "https://localhost:8080/"
        },
        "id": "P7wrGsFUwsa1",
        "outputId": "6971de42-22be-415d-9f73-16672d226676"
      },
      "execution_count": 39,
      "outputs": [
        {
          "output_type": "stream",
          "name": "stdout",
          "text": [
            "숫자1 ==> 100\n",
            "숫자2 ==> 10\n",
            "100 + 10 = 110\n"
          ]
        }
      ]
    },
    {
      "cell_type": "markdown",
      "source": [
        "거북이 1번 예제"
      ],
      "metadata": {
        "id": "AKyqp-jSxm5t"
      }
    },
    {
      "cell_type": "code",
      "source": [
        "#!pip3 install ColabTurtle\n",
        "import ColabTurtle.Turtle as turtle\n",
        "\n",
        "turtle.initializeTurtle()\n",
        "turtle.left(90)\n",
        "turtle.forward(130)\n",
        "turtle.left(135)\n",
        "turtle.forward(140)\n",
        "turtle.left(150)\n",
        "turtle.forward(140)\n",
        "turtle.left(150)\n",
        "turtle.forward(140)\n",
        "turtle.left(145)\n",
        "turtle.forward(140)"
      ],
      "metadata": {
        "colab": {
          "base_uri": "https://localhost:8080/",
          "height": 520
        },
        "id": "evbX4mt5xo2n",
        "outputId": "c92cb933-481f-497d-bbde-a90425284496"
      },
      "execution_count": 73,
      "outputs": [
        {
          "output_type": "display_data",
          "data": {
            "text/plain": [
              "<IPython.core.display.HTML object>"
            ],
            "text/html": [
              "\n",
              "      <svg width=\"800\" height=\"500\">\n",
              "        <rect width=\"100%\" height=\"100%\" fill=\"black\"/>\n",
              "        <line x1=\"400\" y1=\"250\" x2=\"260.0\" y2=\"250.0\" stroke-linecap=\"round\" style=\"stroke:white;stroke-width:4\"/><line x1=\"260.0\" y1=\"250.0\" x2=\"358.995\" y2=\"348.995\" stroke-linecap=\"round\" style=\"stroke:white;stroke-width:4\"/><line x1=\"358.995\" y1=\"348.995\" x2=\"322.76\" y2=\"213.765\" stroke-linecap=\"round\" style=\"stroke:white;stroke-width:4\"/><line x1=\"322.76\" y1=\"213.765\" x2=\"286.525\" y2=\"348.995\" stroke-linecap=\"round\" style=\"stroke:white;stroke-width:4\"/><line x1=\"286.525\" y1=\"348.995\" x2=\"393.771\" y2=\"259.005\" stroke-linecap=\"round\" style=\"stroke:white;stroke-width:4\"/>\n",
              "        <g visibility=visible transform=\"rotate(410,393.771,259.005) translate(375.771, 241.005)\">\n",
              "<path style=\" stroke:none;fill-rule:evenodd;fill:white;fill-opacity:1;\" d=\"M 18.214844 0.632812 C 16.109375 1.800781 15.011719 4.074219 15.074219 7.132812 L 15.085938 7.652344 L 14.785156 7.496094 C 13.476562 6.824219 11.957031 6.671875 10.40625 7.066406 C 8.46875 7.550781 6.515625 9.15625 4.394531 11.992188 C 3.0625 13.777344 2.679688 14.636719 3.042969 15.027344 L 3.15625 15.152344 L 3.519531 15.152344 C 4.238281 15.152344 4.828125 14.886719 8.1875 13.039062 C 9.386719 12.378906 10.371094 11.839844 10.378906 11.839844 C 10.386719 11.839844 10.355469 11.929688 10.304688 12.035156 C 9.832031 13.09375 9.257812 14.820312 8.96875 16.078125 C 7.914062 20.652344 8.617188 24.53125 11.070312 27.660156 C 11.351562 28.015625 11.363281 27.914062 10.972656 28.382812 C 8.925781 30.84375 7.945312 33.28125 8.238281 35.1875 C 8.289062 35.527344 8.28125 35.523438 8.917969 35.523438 C 10.941406 35.523438 13.074219 34.207031 15.136719 31.6875 C 15.359375 31.417969 15.328125 31.425781 15.5625 31.574219 C 16.292969 32.042969 18.023438 32.964844 18.175781 32.964844 C 18.335938 32.964844 19.941406 32.210938 20.828125 31.71875 C 20.996094 31.625 21.136719 31.554688 21.136719 31.558594 C 21.203125 31.664062 21.898438 32.414062 22.222656 32.730469 C 23.835938 34.300781 25.5625 35.132812 27.582031 35.300781 C 27.90625 35.328125 27.9375 35.308594 28.007812 34.984375 C 28.382812 33.242188 27.625 30.925781 25.863281 28.425781 L 25.542969 27.96875 L 25.699219 27.785156 C 28.945312 23.960938 29.132812 18.699219 26.257812 11.96875 L 26.207031 11.84375 L 27.945312 12.703125 C 31.53125 14.476562 32.316406 14.800781 33.03125 14.800781 C 33.976562 14.800781 33.78125 13.9375 32.472656 12.292969 C 28.519531 7.355469 25.394531 5.925781 21.921875 7.472656 L 21.558594 7.636719 L 21.578125 7.542969 C 21.699219 6.992188 21.761719 5.742188 21.699219 5.164062 C 21.496094 3.296875 20.664062 1.964844 19.003906 0.855469 C 18.480469 0.503906 18.457031 0.5 18.214844 0.632812\"/>\n",
              "</g>\n",
              "      </svg>\n",
              "    "
            ]
          },
          "metadata": {}
        }
      ]
    }
  ]
}