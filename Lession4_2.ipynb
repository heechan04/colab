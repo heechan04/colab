{
  "nbformat": 4,
  "nbformat_minor": 0,
  "metadata": {
    "colab": {
      "name": "Lession4-2.ipynb",
      "provenance": [],
      "authorship_tag": "ABX9TyOnll2YSzCfuWmVK2+b/TRQ",
      "include_colab_link": true
    },
    "kernelspec": {
      "name": "python3",
      "display_name": "Python 3"
    },
    "language_info": {
      "name": "python"
    }
  },
  "cells": [
    {
      "cell_type": "markdown",
      "metadata": {
        "id": "view-in-github",
        "colab_type": "text"
      },
      "source": [
        "<a href=\"https://colab.research.google.com/github/heechan04/colab/blob/main/Lession4_2.ipynb\" target=\"_parent\"><img src=\"https://colab.research.google.com/assets/colab-badge.svg\" alt=\"Open In Colab\"/></a>"
      ]
    },
    {
      "cell_type": "markdown",
      "source": [
        "이스케이프 문자 예제"
      ],
      "metadata": {
        "id": "LoJcuJse298r"
      }
    },
    {
      "cell_type": "code",
      "execution_count": 2,
      "metadata": {
        "colab": {
          "base_uri": "https://localhost:8080/"
        },
        "id": "7qczrUEXzeSF",
        "outputId": "dad68422-cb34-4771-d7b5-14ebb2f0b0a9"
      },
      "outputs": [
        {
          "output_type": "stream",
          "name": "stdout",
          "text": [
            "\n",
            "줄바꿈\n",
            "연습\n",
            "\t탭키\t연습\n",
            "어떤 글자를 \"강조\"하는 효과1\n",
            "어떤 글자를 '강조'하는 효과2\n",
            "\\\\ 백슬래시 2개 출력\n"
          ]
        }
      ],
      "source": [
        "print(\"\\n줄바꿈\\n연습\")\n",
        "print(\"\\t탭키\\t연습\")\n",
        "print(\"어떤 글자를 \\\"강조\\\"하는 효과1\")\n",
        "print(\"어떤 글자를 \\'강조\\'하는 효과2\")\n",
        "print(\"\\\\\\\\ 백슬래시 2개 출력\")"
      ]
    },
    {
      "cell_type": "markdown",
      "source": [
        "형성평가 : 두 문자열을 입력받고 두 문자열의 길이 차이를 체크하기"
      ],
      "metadata": {
        "id": "nk23-6wb49xy"
      }
    },
    {
      "cell_type": "code",
      "source": [
        "var1 = input(\"첫 번째 문자열 ==>\")\n",
        "var2 = input(\"두 번째 문자열 ==>\")\n",
        "len1 = len(var1)\n",
        "len2 = len(var2)\n",
        "\n",
        "diff = len1 - len2\n",
        "print(\"두 문자열의 길이 차이는\",diff,\"입니다.\")"
      ],
      "metadata": {
        "colab": {
          "base_uri": "https://localhost:8080/"
        },
        "id": "XUbfw9Wy42T6",
        "outputId": "e69dc8d5-9ca5-4f09-aa22-c68987167e9e"
      },
      "execution_count": 7,
      "outputs": [
        {
          "output_type": "stream",
          "name": "stdout",
          "text": [
            "첫 번째 문자열 ==>난생처음 파이썬\n",
            "두 번째 문자열 ==>First Python\n",
            "두 문자열의 길이 차이는 -4 입니다.\n"
          ]
        }
      ]
    },
    {
      "cell_type": "markdown",
      "source": [
        "형성평가 : 문자열을 거꾸로 출력하는 프로그램"
      ],
      "metadata": {
        "id": "H10GDdoX7OCZ"
      }
    },
    {
      "cell_type": "code",
      "source": [
        "orig = 트와이스\n",
        "print(\"원본 문자열 ==>\" orig)\n",
        "print(\"반대 문자열 ==>\" end='')\n",
        "print(ss[3], end='')\n",
        "print(ss[2], end='')\n",
        "print(ss[1], end='')\n",
        "print(ss[0], end='')"
      ],
      "metadata": {
        "colab": {
          "base_uri": "https://localhost:8080/",
          "height": 137
        },
        "id": "-gUyNKep7OUY",
        "outputId": "44602fa7-b902-4bee-a7dd-55eb515881f8"
      },
      "execution_count": 8,
      "outputs": [
        {
          "output_type": "error",
          "ename": "SyntaxError",
          "evalue": "ignored",
          "traceback": [
            "\u001b[0;36m  File \u001b[0;32m\"<ipython-input-8-9cafe12116a5>\"\u001b[0;36m, line \u001b[0;32m2\u001b[0m\n\u001b[0;31m    print(\"원본 문자열 ==>\" orig)\u001b[0m\n\u001b[0m                          ^\u001b[0m\n\u001b[0;31mSyntaxError\u001b[0m\u001b[0;31m:\u001b[0m invalid syntax\n"
          ]
        }
      ]
    }
  ]
}