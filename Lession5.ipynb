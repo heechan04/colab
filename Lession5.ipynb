{
  "nbformat": 4,
  "nbformat_minor": 0,
  "metadata": {
    "colab": {
      "name": "Lession5.ipynb",
      "provenance": [],
      "authorship_tag": "ABX9TyOWA4jLzwNHJAG0mUxQlFfQ",
      "include_colab_link": true
    },
    "kernelspec": {
      "name": "python3",
      "display_name": "Python 3"
    },
    "language_info": {
      "name": "python"
    }
  },
  "cells": [
    {
      "cell_type": "markdown",
      "metadata": {
        "id": "view-in-github",
        "colab_type": "text"
      },
      "source": [
        "<a href=\"https://colab.research.google.com/github/heechan04/colab/blob/main/Lession5.ipynb\" target=\"_parent\"><img src=\"https://colab.research.google.com/assets/colab-badge.svg\" alt=\"Open In Colab\"/></a>"
      ]
    },
    {
      "cell_type": "markdown",
      "source": [
        "5장 예제 if문"
      ],
      "metadata": {
        "id": "uMVRJjJ4QJyg"
      }
    },
    {
      "cell_type": "code",
      "execution_count": null,
      "metadata": {
        "colab": {
          "base_uri": "https://localhost:8080/"
        },
        "id": "PW_xmVNAQFfr",
        "outputId": "8cdcb95e-55c7-45a2-df52-5a2c31497310"
      },
      "outputs": [
        {
          "output_type": "stream",
          "name": "stdout",
          "text": [
            "100보다 작습니다.\n"
          ]
        }
      ],
      "source": [
        "num = 99\n",
        "if num < 100 :\n",
        "  print(\"100보다 작습니다.\")"
      ]
    },
    {
      "cell_type": "code",
      "source": [
        "num = int(input(\"숫자 입력 : \"))\n",
        "if num % 2 == 0 : \n",
        "  print(num,\"은(는) 짝수입니다.\")\n",
        "else :\n",
        "  print(num,\"은(는) 홀수입니다.\")"
      ],
      "metadata": {
        "colab": {
          "base_uri": "https://localhost:8080/"
        },
        "id": "7-Ezxr_CQ5nY",
        "outputId": "93e575cf-0320-4554-f5b6-9e9984e0c5ae"
      },
      "execution_count": null,
      "outputs": [
        {
          "output_type": "stream",
          "name": "stdout",
          "text": [
            "숫자 입력 : 20\n",
            "20 은(는) 짝수입니다.\n"
          ]
        }
      ]
    },
    {
      "cell_type": "code",
      "source": [
        "num = int(input(\"숫자 입력 : \"))\n",
        "if num % 2 == 0 :\n",
        "  print(num,\"은(는) 짝수입니다.\")\n",
        "if num % 2 == 1 :\n",
        "  print(num,\"은(는) 홀수입니다.\")"
      ],
      "metadata": {
        "colab": {
          "base_uri": "https://localhost:8080/"
        },
        "id": "suZ-9k66SRNo",
        "outputId": "9ea73bcb-d7ab-4e82-97f0-df255c23e067"
      },
      "execution_count": null,
      "outputs": [
        {
          "output_type": "stream",
          "name": "stdout",
          "text": [
            "숫자 입력 : 20\n",
            "20 은(는) 짝수입니다.\n"
          ]
        }
      ]
    },
    {
      "cell_type": "markdown",
      "source": [
        "랜덤 함수 import random"
      ],
      "metadata": {
        "id": "sxCdoIpEUfbX"
      }
    },
    {
      "cell_type": "code",
      "source": [
        "import random\n",
        "\n",
        "r = random.randint(1,45)\n",
        "print(r)"
      ],
      "metadata": {
        "colab": {
          "base_uri": "https://localhost:8080/"
        },
        "id": "JeLxwlseUebG",
        "outputId": "1cfdc1cd-cd96-4b06-c491-2e08814a30ac"
      },
      "execution_count": null,
      "outputs": [
        {
          "output_type": "stream",
          "name": "stdout",
          "text": [
            "17\n"
          ]
        }
      ]
    },
    {
      "cell_type": "code",
      "source": [
        "import random\n",
        "\n",
        "com_num = random.randint(1,45)\n",
        "print(\"** 컴퓨터가 생각한 숫자를 맞추는 게임 **\")\n",
        "print(\"숫자는 1부터 45까지 입니다.\")\n",
        "\n",
        "while com_num != user_num :\n",
        "  \n",
        "  user_num = int(input(\"숫자 입력 : \"))\n",
        "  if com_num > user_num :\n",
        "    print(\"입력한 숫자가 작습니다.\")\n",
        "  elif com_num < user_num :\n",
        "    print(\"입력한 숫자가 큽니다.\")\n",
        "  else :\n",
        "    print(\"** 정답 **\")\n",
        "  "
      ],
      "metadata": {
        "colab": {
          "base_uri": "https://localhost:8080/"
        },
        "id": "OEXxeLsCU3cW",
        "outputId": "a5bd0963-a9ef-4067-f780-9221fd6074ad"
      },
      "execution_count": 9,
      "outputs": [
        {
          "output_type": "stream",
          "name": "stdout",
          "text": [
            "** 컴퓨터가 생각한 숫자를 맞추는 게임 **\n",
            "숫자는 1부터 45까지 입니다.\n",
            "숫자 입력 : 20\n",
            "입력한 숫자가 큽니다.\n",
            "숫자 입력 : 10\n",
            "입력한 숫자가 작습니다.\n",
            "숫자 입력 : 15\n",
            "입력한 숫자가 큽니다.\n",
            "숫자 입력 : 14\n",
            "입력한 숫자가 큽니다.\n",
            "숫자 입력 : 13\n",
            "** 정답 **\n"
          ]
        }
      ]
    },
    {
      "cell_type": "code",
      "source": [
        "import random\n",
        "\n",
        "com_num1 = random.randint(1,10)\n",
        "com_num2 = random.randint(1.10)\n",
        "com_num3 = random.randint(1,10)\n",
        "while com_num1,com_num2,com_nom3 != user_num1,user_num2,user_num3 : \n",
        "\n",
        "  user_num1 = int(input(숫자 입력 1 : ))\n",
        "  user_num2 = int(input(숫자 입력 2 : ))\n",
        "  user_num3 = int(input(숫자 입력 3 : ))"
      ],
      "metadata": {
        "id": "_sjnF_x7WzGf"
      },
      "execution_count": null,
      "outputs": []
    },
    {
      "cell_type": "markdown",
      "source": [
        "가위바위보 게임"
      ],
      "metadata": {
        "id": "4JowgesSYHP-"
      }
    },
    {
      "cell_type": "code",
      "source": [
        "import random\n",
        "\n",
        "print(\"** 가위바위보 게임 **\")\n",
        "count = 7\n",
        "while count > 0 :\n",
        "  com_player = random.choice([\"가위\", \"바위\", \"보\"])\n",
        "  user_player = input(\"가위/바위/보 중 하나를 입력하세요 ==>\")\n",
        "  if (com_player == user_player) :\n",
        "    print(\"비겼다.\")\n",
        "  elif ((com_player == \"가위\") and (user_player == \"바위\")) or \\\n",
        "  ((com_player == \"바위\") and (user_player == \"보\")) or \\\n",
        "  ((com_player == \"보\") and (user_player == \"가위\")) :\n",
        "    print(\"이겼다.\")\n",
        "    count = count - 7\n",
        "  else :\n",
        "    print(\"졌다.\")\n",
        "    count = count - 1"
      ],
      "metadata": {
        "colab": {
          "base_uri": "https://localhost:8080/"
        },
        "id": "_rYnJnxTYGsP",
        "outputId": "1f905d44-9217-497f-a4b5-60a57f89a8d9"
      },
      "execution_count": 23,
      "outputs": [
        {
          "output_type": "stream",
          "name": "stdout",
          "text": [
            "** 가위바위보 게임 **\n",
            "가위/바위/보 중 하나를 입력하세요 ==>바위\n",
            "이겼다.\n"
          ]
        }
      ]
    }
  ]
}