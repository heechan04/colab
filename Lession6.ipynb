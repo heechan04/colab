{
  "nbformat": 4,
  "nbformat_minor": 0,
  "metadata": {
    "colab": {
      "provenance": [],
      "authorship_tag": "ABX9TyOC+i0nho8bjiBNnqoQ1yZO",
      "include_colab_link": true
    },
    "kernelspec": {
      "name": "python3",
      "display_name": "Python 3"
    },
    "language_info": {
      "name": "python"
    }
  },
  "cells": [
    {
      "cell_type": "markdown",
      "metadata": {
        "id": "view-in-github",
        "colab_type": "text"
      },
      "source": [
        "<a href=\"https://colab.research.google.com/github/heechan04/colab/blob/main/Lession6.ipynb\" target=\"_parent\"><img src=\"https://colab.research.google.com/assets/colab-badge.svg\" alt=\"Open In Colab\"/></a>"
      ]
    },
    {
      "cell_type": "code",
      "execution_count": null,
      "metadata": {
        "colab": {
          "base_uri": "https://localhost:8080/"
        },
        "id": "DS-vf05tvFdq",
        "outputId": "ddf0fcd1-2c4c-4ccc-ce18-1ac440c603b7"
      },
      "outputs": [
        {
          "output_type": "stream",
          "name": "stdout",
          "text": [
            "2 난생처음 파이썬은 재미있습니다. ^^\n",
            "3 난생처음 파이썬은 재미있습니다. ^^\n",
            "4 난생처음 파이썬은 재미있습니다. ^^\n",
            "5 난생처음 파이썬은 재미있습니다. ^^\n"
          ]
        }
      ],
      "source": [
        "for i in range(2,6,1) :\n",
        "  print(i,\"난생처음 파이썬은 재미있습니다. ^^\")"
      ]
    },
    {
      "cell_type": "code",
      "source": [
        "for i in range(3) :\n",
        "  print(i,\"안산공고 컴퓨터과 최고\")"
      ],
      "metadata": {
        "colab": {
          "base_uri": "https://localhost:8080/"
        },
        "id": "vL2n1Wccv5ZQ",
        "outputId": "7e565fe4-f298-49de-e927-66a4f5bebac2"
      },
      "execution_count": null,
      "outputs": [
        {
          "output_type": "stream",
          "name": "stdout",
          "text": [
            "0 안산공고 컴퓨터과 최고\n",
            "1 안산공고 컴퓨터과 최고\n",
            "2 안산공고 컴퓨터과 최고\n"
          ]
        }
      ]
    },
    {
      "cell_type": "code",
      "source": [
        "myList = [\"짜장면\", \"김밥\", \"라면\"]\n",
        "for i in myList :\n",
        "  print(i)"
      ],
      "metadata": {
        "colab": {
          "base_uri": "https://localhost:8080/"
        },
        "id": "95yErVt1wF6_",
        "outputId": "e9a3118d-1926-4e6e-c3ae-5a2fe187190b"
      },
      "execution_count": null,
      "outputs": [
        {
          "output_type": "stream",
          "name": "stdout",
          "text": [
            "짜장면\n",
            "김밥\n",
            "라면\n"
          ]
        }
      ]
    },
    {
      "cell_type": "code",
      "source": [
        "for i in range(2, 8, 2) :\n",
        "  print(i)"
      ],
      "metadata": {
        "colab": {
          "base_uri": "https://localhost:8080/"
        },
        "id": "3o8lRyhHwxvx",
        "outputId": "d919db2e-1e02-4dd0-b97c-8471dd6965ee"
      },
      "execution_count": null,
      "outputs": [
        {
          "output_type": "stream",
          "name": "stdout",
          "text": [
            "2\n",
            "4\n",
            "6\n"
          ]
        }
      ]
    },
    {
      "cell_type": "code",
      "source": [
        "sum = 0\n",
        "for i in range(1, 100, 2) :\n",
        "  sum = sum + i\n",
        "print(sum)"
      ],
      "metadata": {
        "colab": {
          "base_uri": "https://localhost:8080/"
        },
        "id": "6B2J6T7mxLrW",
        "outputId": "1f5a4fda-6a02-4cb2-d304-5aa7563d3b9d"
      },
      "execution_count": null,
      "outputs": [
        {
          "output_type": "stream",
          "name": "stdout",
          "text": [
            "2500\n"
          ]
        }
      ]
    },
    {
      "cell_type": "code",
      "source": [
        "flag = 1\n",
        "sum = 0\n",
        "for i in range(1,100, 2) :\n",
        "  if flag == 1 :\n",
        "    sum = sum + i\n",
        "    flag = flag * - 1\n",
        "  else :\n",
        "    sum = sum - i\n",
        "    flag = flag * - 1\n",
        "print(sum)"
      ],
      "metadata": {
        "colab": {
          "base_uri": "https://localhost:8080/"
        },
        "id": "p_TvteqBxs5y",
        "outputId": "fad753bb-65d4-4cac-b70d-3ad5b3a1d2c2"
      },
      "execution_count": null,
      "outputs": [
        {
          "output_type": "stream",
          "name": "stdout",
          "text": [
            "-50\n"
          ]
        }
      ]
    },
    {
      "cell_type": "code",
      "source": [
        "fact = 1\n",
        "friends_num = 5\n",
        "for i in range(1,friends_num + 1,1) :\n",
        "  fact = fact * i\n",
        "print(\"A, B, C, D, E 학생들을 순서대로 세우는 경우의 수 : \",fact)"
      ],
      "metadata": {
        "colab": {
          "base_uri": "https://localhost:8080/"
        },
        "id": "SUsgi98K0FMB",
        "outputId": "f07306a7-5853-45d1-f217-c68cf9b2ed2b"
      },
      "execution_count": null,
      "outputs": [
        {
          "output_type": "stream",
          "name": "stdout",
          "text": [
            "A, B, C, D, E 학생들을 순서대로 세우는 경우의 수 :  120\n"
          ]
        }
      ]
    },
    {
      "cell_type": "code",
      "source": [
        "hap = 0\n",
        "for i in range(1, 11,1) :\n",
        "  hap = hap + i\n",
        "print(\"1에서 10까지의 합 :\", hap)"
      ],
      "metadata": {
        "colab": {
          "base_uri": "https://localhost:8080/"
        },
        "id": "dPlGrvun1r7-",
        "outputId": "b45547ec-94e3-4d5c-8daa-e22452cb78f4"
      },
      "execution_count": null,
      "outputs": [
        {
          "output_type": "stream",
          "name": "stdout",
          "text": [
            "1에서 10까지의 합 : 55\n"
          ]
        }
      ]
    },
    {
      "cell_type": "code",
      "source": [
        "i, hap = 0, 0\n",
        "\n",
        "for i in range(1001, 2001, 2) :\n",
        "  hap += i\n",
        "print(\"1000에서 2000까지의 홀수의 합 : \", hap)"
      ],
      "metadata": {
        "colab": {
          "base_uri": "https://localhost:8080/"
        },
        "id": "mnMnXs3z2WXp",
        "outputId": "1ba12708-134d-4223-99d2-56f36608ba7e"
      },
      "execution_count": null,
      "outputs": [
        {
          "output_type": "stream",
          "name": "stdout",
          "text": [
            "1000에서 2000까지의 홀수의 합 :  750000\n"
          ]
        }
      ]
    },
    {
      "cell_type": "code",
      "source": [
        "for i in  range(3) :\n",
        "  for k in range(2) :\n",
        "    print(\"난생처음은 쉽습니다. ^^ (i값:\",i,\"k값:\",k,\")\")"
      ],
      "metadata": {
        "colab": {
          "base_uri": "https://localhost:8080/"
        },
        "id": "TddYD8Nz26Y4",
        "outputId": "65d4253a-c3c9-4288-f7ed-d2c023a3d7ba"
      },
      "execution_count": null,
      "outputs": [
        {
          "output_type": "stream",
          "name": "stdout",
          "text": [
            "난생처음은 쉽습니다. ^^ (i값: 0 k값: 0 )\n",
            "난생처음은 쉽습니다. ^^ (i값: 0 k값: 1 )\n",
            "난생처음은 쉽습니다. ^^ (i값: 1 k값: 0 )\n",
            "난생처음은 쉽습니다. ^^ (i값: 1 k값: 1 )\n",
            "난생처음은 쉽습니다. ^^ (i값: 2 k값: 0 )\n",
            "난생처음은 쉽습니다. ^^ (i값: 2 k값: 1 )\n"
          ]
        }
      ]
    },
    {
      "cell_type": "code",
      "source": [
        "for i in range (2) :\n",
        "  for k in range(3) :\n",
        "    print(\"중첩 for문입니다.\")"
      ],
      "metadata": {
        "colab": {
          "base_uri": "https://localhost:8080/"
        },
        "id": "k9yg8YXJ4KNt",
        "outputId": "00a7260d-1956-4666-9761-e8796df7830e"
      },
      "execution_count": null,
      "outputs": [
        {
          "output_type": "stream",
          "name": "stdout",
          "text": [
            "중첩 for문입니다.\n",
            "중첩 for문입니다.\n",
            "중첩 for문입니다.\n",
            "중첩 for문입니다.\n",
            "중첩 for문입니다.\n",
            "중첩 for문입니다.\n"
          ]
        }
      ]
    },
    {
      "cell_type": "code",
      "source": [
        "a = 0\n",
        "b = 0\n",
        "for a in range(2,10,1) :\n",
        "  for b in range(1,10) :\n",
        "    print(a, \"x\", b, \"=\", a * b)"
      ],
      "metadata": {
        "colab": {
          "base_uri": "https://localhost:8080/"
        },
        "id": "J7Iy2rIJ4STo",
        "outputId": "a6f97fd4-5211-4256-bd58-b01b1ea8dee7"
      },
      "execution_count": 23,
      "outputs": [
        {
          "output_type": "stream",
          "name": "stdout",
          "text": [
            "2 x 1 = 2\n",
            "2 x 2 = 4\n",
            "2 x 3 = 6\n",
            "2 x 4 = 8\n",
            "2 x 5 = 10\n",
            "2 x 6 = 12\n",
            "2 x 7 = 14\n",
            "2 x 8 = 16\n",
            "2 x 9 = 18\n",
            "3 x 1 = 3\n",
            "3 x 2 = 6\n",
            "3 x 3 = 9\n",
            "3 x 4 = 12\n",
            "3 x 5 = 15\n",
            "3 x 6 = 18\n",
            "3 x 7 = 21\n",
            "3 x 8 = 24\n",
            "3 x 9 = 27\n",
            "4 x 1 = 4\n",
            "4 x 2 = 8\n",
            "4 x 3 = 12\n",
            "4 x 4 = 16\n",
            "4 x 5 = 20\n",
            "4 x 6 = 24\n",
            "4 x 7 = 28\n",
            "4 x 8 = 32\n",
            "4 x 9 = 36\n",
            "5 x 1 = 5\n",
            "5 x 2 = 10\n",
            "5 x 3 = 15\n",
            "5 x 4 = 20\n",
            "5 x 5 = 25\n",
            "5 x 6 = 30\n",
            "5 x 7 = 35\n",
            "5 x 8 = 40\n",
            "5 x 9 = 45\n",
            "6 x 1 = 6\n",
            "6 x 2 = 12\n",
            "6 x 3 = 18\n",
            "6 x 4 = 24\n",
            "6 x 5 = 30\n",
            "6 x 6 = 36\n",
            "6 x 7 = 42\n",
            "6 x 8 = 48\n",
            "6 x 9 = 54\n",
            "7 x 1 = 7\n",
            "7 x 2 = 14\n",
            "7 x 3 = 21\n",
            "7 x 4 = 28\n",
            "7 x 5 = 35\n",
            "7 x 6 = 42\n",
            "7 x 7 = 49\n",
            "7 x 8 = 56\n",
            "7 x 9 = 63\n",
            "8 x 1 = 8\n",
            "8 x 2 = 16\n",
            "8 x 3 = 24\n",
            "8 x 4 = 32\n",
            "8 x 5 = 40\n",
            "8 x 6 = 48\n",
            "8 x 7 = 56\n",
            "8 x 8 = 64\n",
            "8 x 9 = 72\n",
            "9 x 1 = 9\n",
            "9 x 2 = 18\n",
            "9 x 3 = 27\n",
            "9 x 4 = 36\n",
            "9 x 5 = 45\n",
            "9 x 6 = 54\n",
            "9 x 7 = 63\n",
            "9 x 8 = 72\n",
            "9 x 9 = 81\n"
          ]
        }
      ]
    },
    {
      "cell_type": "code",
      "source": [
        "hap = 0\n",
        "num1, num2 = 0, 0\n",
        "\n",
        "while True :\n",
        "  num1 = float(input(\"숫자1 ==> \"))\n",
        "  if num1 == 0 :\n",
        "    break\n",
        "  num2 = float(input(\"숫자2 ==> \"))\n",
        "  if num2 == 0 :\n",
        "    break\n",
        "  \n",
        "  hap = num1 + num2\n",
        "  print(num1, \"+\", num2, \"=\", hap)"
      ],
      "metadata": {
        "colab": {
          "base_uri": "https://localhost:8080/"
        },
        "id": "i7Qnne0M_xgz",
        "outputId": "1dd0b63e-4be4-49e3-cbde-de0b14af1d42"
      },
      "execution_count": 29,
      "outputs": [
        {
          "name": "stdout",
          "output_type": "stream",
          "text": [
            "숫자1 ==> 2000000\n",
            "숫자2 ==> 200000\n",
            "2000000.0 + 200000.0 = 2200000.0\n",
            "숫자1 ==> 0\n"
          ]
        }
      ]
    },
    {
      "cell_type": "code",
      "source": [
        "import random\n",
        "i = 0\n",
        "while True :\n",
        "  r1 = random.randint(1,1000)\n",
        "  r2 = random.randint(1,1000)\n",
        "  r3 = random.randint(1,1000)\n",
        "  i += 1\n",
        "  if r1 == r2 == r3 :\n",
        "    break\n",
        "print(\"3개 주사위는 모두\", r1,\"입니다.\")\n",
        "print(\"같은 숫자가 나오기까지\", i, \"번 던졌습니다\")"
      ],
      "metadata": {
        "colab": {
          "base_uri": "https://localhost:8080/"
        },
        "id": "0ap5N2RJDofB",
        "outputId": "631837af-aece-4994-d856-7943320e6a40"
      },
      "execution_count": 41,
      "outputs": [
        {
          "output_type": "stream",
          "name": "stdout",
          "text": [
            "3개 주사위는 모두 198 입니다.\n",
            "같은 숫자가 나오기까지 487596 번 던졌습니다\n"
          ]
        }
      ]
    },
    {
      "cell_type": "code",
      "source": [
        "import random\n",
        "\n",
        "for i in range (1,11) :\n",
        "  com_num = random.randint(1,5)\n",
        "  print(\"게임\",i,\"회\", end='')\n",
        "  user_num = int(input(\": 컴퓨터가 생각한 숫자는?\"))\n",
        "  if com_num == user_num :\n",
        "    print(\"맞추셨네요. 축하합니다!!\")\n",
        "    break\n",
        "  else :\n",
        "    print(\"아까워요.\", com_num, \"였는데요. 다시 해보세요\")\n",
        "print(\"게임을 마칩니다.\")"
      ],
      "metadata": {
        "colab": {
          "base_uri": "https://localhost:8080/"
        },
        "id": "HaxzZIZ_GVcg",
        "outputId": "647fd1cd-9719-4954-9c30-f6477069596f"
      },
      "execution_count": 45,
      "outputs": [
        {
          "output_type": "stream",
          "name": "stdout",
          "text": [
            "게임 1 회: 컴퓨터가 생각한 숫자는?2\n",
            "아까워요. 1 였는데요. 다시 해보세요\n",
            "게임 2 회: 컴퓨터가 생각한 숫자는?3\n",
            "아까워요. 2 였는데요. 다시 해보세요\n",
            "게임 3 회: 컴퓨터가 생각한 숫자는?4\n",
            "맞췄네요. 축하합니다!!\n",
            "게임을 마칩니다.\n"
          ]
        }
      ]
    },
    {
      "cell_type": "code",
      "source": [
        "import random\n",
        "com_list = [1,2,3,4,5,6,7,8,9]\n",
        "com_num, usr_num = [], []\n",
        "\n",
        "def usr_fun() :\n",
        "  usr = input(\"3개의 숫자를 입력(1~9까지) ==> \")\n",
        "  for i in range(0,5,2) :\n",
        "    usr_num.append(int(usr[i]))\n",
        "\n",
        "# 컴퓨터 - 3개의 중복되지 않는 숫자 만들기------------------------\n",
        "for i in range (3) :\n",
        "  r = random.choice(com_list)\n",
        "  com_list.remove(r)\n",
        "  com_num.append(r)\n",
        "print(\"** 야구 게임 **\")\n",
        "#스트라이크 및 볼 판정----------------------------------------\n",
        "strike, ball = 0, 0\n",
        "while True :\n",
        "  usr_num.clear()\n",
        "  usr_fun()\n",
        "  for i in range(3) :\n",
        "    if com_num[i] == usr_num[i] :\n",
        "      strike = strike + 1\n",
        "    elif usr_num[i] in com_num :\n",
        "      ball = ball + 1\n",
        "  print(strike, \"스트라이크\", \" : \", ball, \"볼\")\n",
        "  if strike == 3 : \n",
        "    print(\"축하합니다.\")\n",
        "    break\n",
        "  strike, ball = 0, 0"
      ],
      "metadata": {
        "colab": {
          "base_uri": "https://localhost:8080/"
        },
        "id": "8fRRgSgiKXGe",
        "outputId": "69c7faf9-affd-43a0-df56-92a1a94ca778"
      },
      "execution_count": 91,
      "outputs": [
        {
          "output_type": "stream",
          "name": "stdout",
          "text": [
            "** 야구 게임 **\n",
            "3개의 숫자를 입력(1~9까지) ==> 1 2 3\n",
            "0 스트라이크  :  1 볼\n",
            "3개의 숫자를 입력(1~9까지) ==> 2 3 4\n",
            "1 스트라이크  :  1 볼\n",
            "3개의 숫자를 입력(1~9까지) ==> 2 5 7\n",
            "0 스트라이크  :  0 볼\n",
            "3개의 숫자를 입력(1~9까지) ==> 3 4 5\n",
            "0 스트라이크  :  2 볼\n",
            "3개의 숫자를 입력(1~9까지) ==> 4 3 7\n",
            "2 스트라이크  :  0 볼\n",
            "3개의 숫자를 입력(1~9까지) ==> 4 3 2\n",
            "2 스트라이크  :  0 볼\n",
            "3개의 숫자를 입력(1~9까지) ==> 4 3 9\n",
            "2 스트라이크  :  0 볼\n",
            "3개의 숫자를 입력(1~9까지) ==> 7 6 5\n",
            "0 스트라이크  :  1 볼\n",
            "3개의 숫자를 입력(1~9까지) ==> 4 3 6\n",
            "3 스트라이크  :  0 볼\n",
            "축하합니다.\n"
          ]
        }
      ]
    }
  ]
}