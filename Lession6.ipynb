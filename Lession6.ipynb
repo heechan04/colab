{
  "nbformat": 4,
  "nbformat_minor": 0,
  "metadata": {
    "colab": {
      "provenance": [],
      "authorship_tag": "ABX9TyPQ1GbgnhGk7vpSbxIfKUEA",
      "include_colab_link": true
    },
    "kernelspec": {
      "name": "python3",
      "display_name": "Python 3"
    },
    "language_info": {
      "name": "python"
    }
  },
  "cells": [
    {
      "cell_type": "markdown",
      "metadata": {
        "id": "view-in-github",
        "colab_type": "text"
      },
      "source": [
        "<a href=\"https://colab.research.google.com/github/heechan04/colab/blob/main/Lession6.ipynb\" target=\"_parent\"><img src=\"https://colab.research.google.com/assets/colab-badge.svg\" alt=\"Open In Colab\"/></a>"
      ]
    },
    {
      "cell_type": "code",
      "execution_count": 16,
      "metadata": {
        "colab": {
          "base_uri": "https://localhost:8080/"
        },
        "id": "DS-vf05tvFdq",
        "outputId": "ddf0fcd1-2c4c-4ccc-ce18-1ac440c603b7"
      },
      "outputs": [
        {
          "output_type": "stream",
          "name": "stdout",
          "text": [
            "2 난생처음 파이썬은 재미있습니다. ^^\n",
            "3 난생처음 파이썬은 재미있습니다. ^^\n",
            "4 난생처음 파이썬은 재미있습니다. ^^\n",
            "5 난생처음 파이썬은 재미있습니다. ^^\n"
          ]
        }
      ],
      "source": [
        "for i in range(2,6,1) :\n",
        "  print(i,\"난생처음 파이썬은 재미있습니다. ^^\")"
      ]
    },
    {
      "cell_type": "code",
      "source": [
        "for i in range(3) :\n",
        "  print(i,\"안산공고 컴퓨터과 최고\")"
      ],
      "metadata": {
        "colab": {
          "base_uri": "https://localhost:8080/"
        },
        "id": "vL2n1Wccv5ZQ",
        "outputId": "7e565fe4-f298-49de-e927-66a4f5bebac2"
      },
      "execution_count": 3,
      "outputs": [
        {
          "output_type": "stream",
          "name": "stdout",
          "text": [
            "0 안산공고 컴퓨터과 최고\n",
            "1 안산공고 컴퓨터과 최고\n",
            "2 안산공고 컴퓨터과 최고\n"
          ]
        }
      ]
    },
    {
      "cell_type": "code",
      "source": [
        "myList = [\"짜장면\", \"김밥\", \"라면\"]\n",
        "for i in myList :\n",
        "  print(i)"
      ],
      "metadata": {
        "colab": {
          "base_uri": "https://localhost:8080/"
        },
        "id": "95yErVt1wF6_",
        "outputId": "e9a3118d-1926-4e6e-c3ae-5a2fe187190b"
      },
      "execution_count": 4,
      "outputs": [
        {
          "output_type": "stream",
          "name": "stdout",
          "text": [
            "짜장면\n",
            "김밥\n",
            "라면\n"
          ]
        }
      ]
    },
    {
      "cell_type": "code",
      "source": [
        "for i in range(2, 8, 2) :\n",
        "  print(i)"
      ],
      "metadata": {
        "colab": {
          "base_uri": "https://localhost:8080/"
        },
        "id": "3o8lRyhHwxvx",
        "outputId": "d919db2e-1e02-4dd0-b97c-8471dd6965ee"
      },
      "execution_count": 6,
      "outputs": [
        {
          "output_type": "stream",
          "name": "stdout",
          "text": [
            "2\n",
            "4\n",
            "6\n"
          ]
        }
      ]
    },
    {
      "cell_type": "markdown",
      "source": [],
      "metadata": {
        "id": "tLnCt_ShxcKA"
      }
    },
    {
      "cell_type": "markdown",
      "source": [],
      "metadata": {
        "id": "Ogjo_tdjxcEC"
      }
    },
    {
      "cell_type": "markdown",
      "source": [],
      "metadata": {
        "id": "-FPD5-flxb9J"
      }
    },
    {
      "cell_type": "markdown",
      "source": [],
      "metadata": {
        "id": "3uZ54oevxb04"
      }
    },
    {
      "cell_type": "code",
      "source": [
        "sum = 0\n",
        "for i in range(1, 100, 2) :\n",
        "  sum = sum + i\n",
        "print(sum)"
      ],
      "metadata": {
        "colab": {
          "base_uri": "https://localhost:8080/"
        },
        "id": "6B2J6T7mxLrW",
        "outputId": "1f5a4fda-6a02-4cb2-d304-5aa7563d3b9d"
      },
      "execution_count": 10,
      "outputs": [
        {
          "output_type": "stream",
          "name": "stdout",
          "text": [
            "2500\n"
          ]
        }
      ]
    },
    {
      "cell_type": "code",
      "source": [
        "flag = 1\n",
        "sum = 0\n",
        "for i in range(1,100, 2) :\n",
        "  if flag == 1 :\n",
        "    sum = sum + i\n",
        "    flag = flag * - 1\n",
        "  else :\n",
        "    sum = sum - i\n",
        "    flag = flag * - 1\n",
        "print(sum)"
      ],
      "metadata": {
        "colab": {
          "base_uri": "https://localhost:8080/"
        },
        "id": "p_TvteqBxs5y",
        "outputId": "fad753bb-65d4-4cac-b70d-3ad5b3a1d2c2"
      },
      "execution_count": 15,
      "outputs": [
        {
          "output_type": "stream",
          "name": "stdout",
          "text": [
            "-50\n"
          ]
        }
      ]
    },
    {
      "cell_type": "code",
      "source": [
        "fact = 1\n",
        "friends_num = 5\n",
        "for i in range(1,friends_num + 1,1) :\n",
        "  fact = fact * i\n",
        "print(\"A, B, C, D, E 학생들을 순서대로 세우는 경우의 수 : \",fact)"
      ],
      "metadata": {
        "colab": {
          "base_uri": "https://localhost:8080/"
        },
        "id": "SUsgi98K0FMB",
        "outputId": "f07306a7-5853-45d1-f217-c68cf9b2ed2b"
      },
      "execution_count": 20,
      "outputs": [
        {
          "output_type": "stream",
          "name": "stdout",
          "text": [
            "A, B, C, D, E 학생들을 순서대로 세우는 경우의 수 :  120\n"
          ]
        }
      ]
    },
    {
      "cell_type": "code",
      "source": [
        "hap = 0\n",
        "for i in range(1, 11,1) :\n",
        "  hap = hap + i\n",
        "print(\"1에서 10까지의 합 :\", hap)"
      ],
      "metadata": {
        "colab": {
          "base_uri": "https://localhost:8080/"
        },
        "id": "dPlGrvun1r7-",
        "outputId": "b45547ec-94e3-4d5c-8daa-e22452cb78f4"
      },
      "execution_count": 21,
      "outputs": [
        {
          "output_type": "stream",
          "name": "stdout",
          "text": [
            "1에서 10까지의 합 : 55\n"
          ]
        }
      ]
    },
    {
      "cell_type": "code",
      "source": [
        "i, hap = 0, 0\n",
        "\n",
        "for i in range(1001, 2001, 2) :\n",
        "  hap += i\n",
        "print(\"1000에서 2000까지의 홀수의 합 : \", hap)"
      ],
      "metadata": {
        "colab": {
          "base_uri": "https://localhost:8080/"
        },
        "id": "mnMnXs3z2WXp",
        "outputId": "1ba12708-134d-4223-99d2-56f36608ba7e"
      },
      "execution_count": 22,
      "outputs": [
        {
          "output_type": "stream",
          "name": "stdout",
          "text": [
            "1000에서 2000까지의 홀수의 합 :  750000\n"
          ]
        }
      ]
    },
    {
      "cell_type": "code",
      "source": [
        "for i in  range(3) :\n",
        "  for k in range(2) :\n",
        "    print(\"난생처음은 쉽습니다. ^^ (i값:\",i,\"k값:\",k,\")\")"
      ],
      "metadata": {
        "colab": {
          "base_uri": "https://localhost:8080/"
        },
        "id": "TddYD8Nz26Y4",
        "outputId": "65d4253a-c3c9-4288-f7ed-d2c023a3d7ba"
      },
      "execution_count": 23,
      "outputs": [
        {
          "output_type": "stream",
          "name": "stdout",
          "text": [
            "난생처음은 쉽습니다. ^^ (i값: 0 k값: 0 )\n",
            "난생처음은 쉽습니다. ^^ (i값: 0 k값: 1 )\n",
            "난생처음은 쉽습니다. ^^ (i값: 1 k값: 0 )\n",
            "난생처음은 쉽습니다. ^^ (i값: 1 k값: 1 )\n",
            "난생처음은 쉽습니다. ^^ (i값: 2 k값: 0 )\n",
            "난생처음은 쉽습니다. ^^ (i값: 2 k값: 1 )\n"
          ]
        }
      ]
    },
    {
      "cell_type": "code",
      "source": [
        "for i in range (2) :\n",
        "  for k in range(3) :\n",
        "    print(\"중첩 for문입니다.\")"
      ],
      "metadata": {
        "colab": {
          "base_uri": "https://localhost:8080/"
        },
        "id": "k9yg8YXJ4KNt",
        "outputId": "00a7260d-1956-4666-9761-e8796df7830e"
      },
      "execution_count": 24,
      "outputs": [
        {
          "output_type": "stream",
          "name": "stdout",
          "text": [
            "중첩 for문입니다.\n",
            "중첩 for문입니다.\n",
            "중첩 for문입니다.\n",
            "중첩 for문입니다.\n",
            "중첩 for문입니다.\n",
            "중첩 for문입니다.\n"
          ]
        }
      ]
    },
    {
      "cell_type": "code",
      "source": [
        "for a in range(2,) :\n",
        "  for b in range(9) :\n",
        "    print(a, \"x\", b, \"=\" ) "
      ],
      "metadata": {
        "colab": {
          "base_uri": "https://localhost:8080/"
        },
        "id": "J7Iy2rIJ4STo",
        "outputId": "855eecf1-984b-4ea0-9e6b-c96d2f45a9cd"
      },
      "execution_count": 31,
      "outputs": [
        {
          "output_type": "stream",
          "name": "stdout",
          "text": [
            "0 x 0 =\n",
            "0 x 1 =\n",
            "0 x 2 =\n",
            "0 x 3 =\n",
            "0 x 4 =\n",
            "0 x 5 =\n",
            "0 x 6 =\n",
            "0 x 7 =\n",
            "0 x 8 =\n",
            "1 x 0 =\n",
            "1 x 1 =\n",
            "1 x 2 =\n",
            "1 x 3 =\n",
            "1 x 4 =\n",
            "1 x 5 =\n",
            "1 x 6 =\n",
            "1 x 7 =\n",
            "1 x 8 =\n"
          ]
        }
      ]
    }
  ]
}