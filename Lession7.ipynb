{
  "nbformat": 4,
  "nbformat_minor": 0,
  "metadata": {
    "colab": {
      "provenance": [],
      "authorship_tag": "ABX9TyN/DAb3cF3SSovnRtT8Xi+O",
      "include_colab_link": true
    },
    "kernelspec": {
      "name": "python3",
      "display_name": "Python 3"
    },
    "language_info": {
      "name": "python"
    }
  },
  "cells": [
    {
      "cell_type": "markdown",
      "metadata": {
        "id": "view-in-github",
        "colab_type": "text"
      },
      "source": [
        "<a href=\"https://colab.research.google.com/github/heechan04/colab/blob/main/Lession7.ipynb\" target=\"_parent\"><img src=\"https://colab.research.google.com/assets/colab-badge.svg\" alt=\"Open In Colab\"/></a>"
      ]
    },
    {
      "cell_type": "code",
      "execution_count": 3,
      "metadata": {
        "colab": {
          "base_uri": "https://localhost:8080/"
        },
        "id": "qkmx3Oz6qIJ4",
        "outputId": "bc261db8-0da4-4a1b-d203-cc89c175bcf4"
      },
      "outputs": [
        {
          "output_type": "stream",
          "name": "stdout",
          "text": [
            "30\n"
          ]
        }
      ],
      "source": [
        "numList = [10,20,30]\n",
        "print(numList[2])"
      ]
    },
    {
      "cell_type": "code",
      "source": [
        "import random\n",
        "WS=[\"준비하지 않은 자는기회가와도 소용없다.\" ,\"지혜는 듣는 데서 오고 후회는 말하는 데서 온다.\" ,\"죄는 미워하고 죄수는 사랑하라.\" ,\"마음의 통일 없이 무슨 일을 이룰 수 있겠는가?\",\"인간은 죽음을 두려워한다. 그것은 생을 사랑하기 때문이다.\",\n",
        "    \"기회는 새와 같은 것 날아가기 전에 꼭 잡아야 한다. \", \"내 비장의 무기는 아직 손 안에 있다. 그것은 희망이다.\", \"부모의 좋은 습관보다 더 좋은 어린이 교육은 없다.\", \"불가능은 소심한 자의 환상이요, 비겁한 사람의 도피처이다.\"]\n",
        "R = random.randint(0, len(WS)-1)\n",
        "print(\"오늘의 명언 ==> \", WS[R])"
      ],
      "metadata": {
        "colab": {
          "base_uri": "https://localhost:8080/"
        },
        "id": "SpkgDAzNxWf7",
        "outputId": "36a1df07-5e30-496a-f58b-1553099284c6"
      },
      "execution_count": 25,
      "outputs": [
        {
          "output_type": "stream",
          "name": "stdout",
          "text": [
            "오늘의 명언 ==>  죄는 미워하고 죄수는 사랑하라.\n"
          ]
        }
      ]
    },
    {
      "cell_type": "code",
      "source": [
        "numList2 = [[1, 2, 3 ,4],\n",
        "            [5, 6, 7, 8],\n",
        "            [9, 10, 11, 12]]\n",
        "\n",
        "for i in range(0, 3) :\n",
        "  for k in range(0, 4) :\n",
        "    print(\" \", numList2[i][k], end='')\n",
        "  print(\"\")"
      ],
      "metadata": {
        "colab": {
          "base_uri": "https://localhost:8080/"
        },
        "id": "C-2visJm6ynK",
        "outputId": "a58493d2-af01-4155-8f24-ec973f2c61d7"
      },
      "execution_count": 26,
      "outputs": [
        {
          "output_type": "stream",
          "name": "stdout",
          "text": [
            "  1  2  3  4\n",
            "  5  6  7  8\n",
            "  9  10  11  12\n"
          ]
        }
      ]
    },
    {
      "cell_type": "code",
      "source": [
        "print(\"홍길동 선수 경기 끝났습니다~~ 짝짝짝\")\n",
        "\n",
        "score = []\n",
        "for i in range(5) :\n",
        "  jumsu = int(input(\"평균 점수 ==> \"))\n",
        "  score.append(jumsu)\n",
        "\n",
        "hap = 0\n",
        "for i in range(5) :\n",
        "  hap += score[i]\n",
        "\n",
        "avg = hap / 5\n",
        "print(\"심사위원 평균 점수 : \", avg)"
      ],
      "metadata": {
        "colab": {
          "base_uri": "https://localhost:8080/"
        },
        "id": "kM7ZIGU18uNp",
        "outputId": "8455e7b6-452a-4f00-f771-792547836616"
      },
      "execution_count": 31,
      "outputs": [
        {
          "output_type": "stream",
          "name": "stdout",
          "text": [
            "홍길동 선수 경기 끝났습니다~~ 짝짝짝\n",
            "평균 점수 ==> 9\n",
            "평균 점수 ==> 7\n",
            "평균 점수 ==> 8\n",
            "평균 점수 ==> 6\n",
            "평균 점수 ==> 9\n",
            "심사위원 평균 점수 :  7.8\n"
          ]
        }
      ]
    },
    {
      "cell_type": "code",
      "source": [
        "import random\n",
        "toss = []\n",
        "for i in range (10000) :\n",
        "  comA = random.choice([\"가위\",\"바위\",\"보\"])\n",
        "  comB = random.choice([\"가위\",\"바위\",\"보\"])\n",
        "\n",
        "  if (comA == comB) :\n",
        "    toss.append(\"비김\")\n",
        "  elif (comA == \"가위\") and (comB == \"보\") or\\\n",
        "       (comA == \"바위\") and (comB == \"가위\") or\\\n",
        "       (comA == \"보\") and (comB == \"바위\") :\n",
        "       toss.append(\"A\")\n",
        "  else :\n",
        "    toss.append(\"B\")\n",
        "  #print(comA, comB, toss[i])\n",
        "\n",
        "aWin = toss.count(\"A\")\n",
        "bWin = toss.count(\"B\")\n",
        "draw = toss.count(\"비김\")\n",
        "\n",
        "print(aWin, bWin, draw)"
      ],
      "metadata": {
        "colab": {
          "base_uri": "https://localhost:8080/"
        },
        "id": "nItGqHxA_EJA",
        "outputId": "c7f203a7-9690-41e5-a690-1f5e5d398999"
      },
      "execution_count": 40,
      "outputs": [
        {
          "output_type": "stream",
          "name": "stdout",
          "text": [
            "3341 3329 3330\n"
          ]
        }
      ]
    },
    {
      "cell_type": "code",
      "source": [
        "singer = {}\n",
        "singer['이름'] = '트와이스'\n",
        "singer['구성원수'] = 9\n",
        "singer['데뷰'] = '서바이벌 식스틴'\n",
        "singer['대표곡'] = 'CRY FOR ME'\n",
        "for k in singer.keys() :\n",
        "  print(k, \"==>\", singer[k])"
      ],
      "metadata": {
        "colab": {
          "base_uri": "https://localhost:8080/"
        },
        "id": "WBXXdq6UM3DW",
        "outputId": "5b291362-d6ca-4614-89e6-5ff16b40eb18"
      },
      "execution_count": 41,
      "outputs": [
        {
          "output_type": "stream",
          "name": "stdout",
          "text": [
            "이름 ==> 트와이스\n",
            "구성원수 ==> 9\n",
            "데뷰 ==> 서바이벌 식스틴\n",
            "대표곡 ==> CRY FOR ME\n"
          ]
        }
      ]
    }
  ]
}