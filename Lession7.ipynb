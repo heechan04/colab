{
  "nbformat": 4,
  "nbformat_minor": 0,
  "metadata": {
    "colab": {
      "provenance": [],
      "authorship_tag": "ABX9TyML+eV1A4jpsM4MoS6DPRUm",
      "include_colab_link": true
    },
    "kernelspec": {
      "name": "python3",
      "display_name": "Python 3"
    },
    "language_info": {
      "name": "python"
    }
  },
  "cells": [
    {
      "cell_type": "markdown",
      "metadata": {
        "id": "view-in-github",
        "colab_type": "text"
      },
      "source": [
        "<a href=\"https://colab.research.google.com/github/heechan04/colab/blob/main/Lession7.ipynb\" target=\"_parent\"><img src=\"https://colab.research.google.com/assets/colab-badge.svg\" alt=\"Open In Colab\"/></a>"
      ]
    },
    {
      "cell_type": "code",
      "execution_count": null,
      "metadata": {
        "colab": {
          "base_uri": "https://localhost:8080/"
        },
        "id": "qkmx3Oz6qIJ4",
        "outputId": "bc261db8-0da4-4a1b-d203-cc89c175bcf4"
      },
      "outputs": [
        {
          "output_type": "stream",
          "name": "stdout",
          "text": [
            "30\n"
          ]
        }
      ],
      "source": [
        "numList = [10,20,30]\n",
        "print(numList[2])"
      ]
    },
    {
      "cell_type": "code",
      "source": [
        "import random\n",
        "WS=[\"준비하지 않은 자는기회가와도 소용없다.\" ,\"지혜는 듣는 데서 오고 후회는 말하는 데서 온다.\" ,\"죄는 미워하고 죄수는 사랑하라.\" ,\"마음의 통일 없이 무슨 일을 이룰 수 있겠는가?\",\"인간은 죽음을 두려워한다. 그것은 생을 사랑하기 때문이다.\",\n",
        "    \"기회는 새와 같은 것 날아가기 전에 꼭 잡아야 한다. \", \"내 비장의 무기는 아직 손 안에 있다. 그것은 희망이다.\", \"부모의 좋은 습관보다 더 좋은 어린이 교육은 없다.\", \"불가능은 소심한 자의 환상이요, 비겁한 사람의 도피처이다.\"]\n",
        "R = random.randint(0, len(WS)-1)\n",
        "print(\"오늘의 명언 ==> \", WS[R])"
      ],
      "metadata": {
        "colab": {
          "base_uri": "https://localhost:8080/"
        },
        "id": "SpkgDAzNxWf7",
        "outputId": "36a1df07-5e30-496a-f58b-1553099284c6"
      },
      "execution_count": null,
      "outputs": [
        {
          "output_type": "stream",
          "name": "stdout",
          "text": [
            "오늘의 명언 ==>  죄는 미워하고 죄수는 사랑하라.\n"
          ]
        }
      ]
    },
    {
      "cell_type": "code",
      "source": [
        "numList2 = [[1, 2, 3 ,4],\n",
        "            [5, 6, 7, 8],\n",
        "            [9, 10, 11, 12]]\n",
        "\n",
        "for i in range(0, 3) :\n",
        "  for k in range(0, 4) :\n",
        "    print(\" \", numList2[i][k], end='')\n",
        "  print(\"\")"
      ],
      "metadata": {
        "colab": {
          "base_uri": "https://localhost:8080/"
        },
        "id": "C-2visJm6ynK",
        "outputId": "a58493d2-af01-4155-8f24-ec973f2c61d7"
      },
      "execution_count": null,
      "outputs": [
        {
          "output_type": "stream",
          "name": "stdout",
          "text": [
            "  1  2  3  4\n",
            "  5  6  7  8\n",
            "  9  10  11  12\n"
          ]
        }
      ]
    },
    {
      "cell_type": "code",
      "source": [
        "print(\"홍길동 선수 경기 끝났습니다~~ 짝짝짝\")\n",
        "\n",
        "score = []\n",
        "for i in range(5) :\n",
        "  jumsu = int(input(\"평균 점수 ==> \"))\n",
        "  score.append(jumsu)\n",
        "\n",
        "hap = 0\n",
        "for i in range(5) :\n",
        "  hap += score[i]\n",
        "\n",
        "avg = hap / 5\n",
        "print(\"심사위원 평균 점수 : \", avg)"
      ],
      "metadata": {
        "colab": {
          "base_uri": "https://localhost:8080/"
        },
        "id": "kM7ZIGU18uNp",
        "outputId": "8455e7b6-452a-4f00-f771-792547836616"
      },
      "execution_count": null,
      "outputs": [
        {
          "output_type": "stream",
          "name": "stdout",
          "text": [
            "홍길동 선수 경기 끝났습니다~~ 짝짝짝\n",
            "평균 점수 ==> 9\n",
            "평균 점수 ==> 7\n",
            "평균 점수 ==> 8\n",
            "평균 점수 ==> 6\n",
            "평균 점수 ==> 9\n",
            "심사위원 평균 점수 :  7.8\n"
          ]
        }
      ]
    },
    {
      "cell_type": "code",
      "source": [
        "import random\n",
        "toss = []\n",
        "for i in range (10000) :\n",
        "  comA = random.choice([\"가위\",\"바위\",\"보\"])\n",
        "  comB = random.choice([\"가위\",\"바위\",\"보\"])\n",
        "\n",
        "  if (comA == comB) :\n",
        "    toss.append(\"비김\")\n",
        "  elif (comA == \"가위\") and (comB == \"보\") or\\\n",
        "       (comA == \"바위\") and (comB == \"가위\") or\\\n",
        "       (comA == \"보\") and (comB == \"바위\") :\n",
        "       toss.append(\"A\")\n",
        "  else :\n",
        "    toss.append(\"B\")\n",
        "  #print(comA, comB, toss[i])\n",
        "\n",
        "aWin = toss.count(\"A\")\n",
        "bWin = toss.count(\"B\")\n",
        "draw = toss.count(\"비김\")\n",
        "\n",
        "print(aWin, bWin, draw)"
      ],
      "metadata": {
        "colab": {
          "base_uri": "https://localhost:8080/"
        },
        "id": "nItGqHxA_EJA",
        "outputId": "c7f203a7-9690-41e5-a690-1f5e5d398999"
      },
      "execution_count": null,
      "outputs": [
        {
          "output_type": "stream",
          "name": "stdout",
          "text": [
            "3341 3329 3330\n"
          ]
        }
      ]
    },
    {
      "cell_type": "code",
      "source": [
        "singer = {}\n",
        "singer['이름'] = '트와이스'\n",
        "singer['구성원수'] = 9\n",
        "singer['데뷰'] = '서바이벌 식스틴'\n",
        "singer['대표곡'] = 'CRY FOR ME'\n",
        "for k in singer.keys() :\n",
        "  print(k, \"==>\", singer[k])"
      ],
      "metadata": {
        "colab": {
          "base_uri": "https://localhost:8080/"
        },
        "id": "WBXXdq6UM3DW",
        "outputId": "5b291362-d6ca-4614-89e6-5ff16b40eb18"
      },
      "execution_count": null,
      "outputs": [
        {
          "output_type": "stream",
          "name": "stdout",
          "text": [
            "이름 ==> 트와이스\n",
            "구성원수 ==> 9\n",
            "데뷰 ==> 서바이벌 식스틴\n",
            "대표곡 ==> CRY FOR ME\n"
          ]
        }
      ]
    },
    {
      "cell_type": "code",
      "source": [
        "store = {}\n",
        "print(\"*** 물품과 재고량 입력 ***\")\n",
        "while True :\n",
        "  article = input(\"입력 물품 : \")\n",
        "  if article == \"z\" :\n",
        "    break\n",
        "  store[article] = int(input(\"재고량 : \"))\n",
        "print(\"*** 물품과 재고량 확인 ***\")\n",
        "while True :\n",
        "  find_article = input(\"찾을 물품 : \")\n",
        "  if find_article in store :\n",
        "    print(store[find_article], \"개 남았습니다.\")\n",
        "  elif find_article == \"\" :\n",
        "    break \n",
        "  else :\n",
        "    print(\"그런 물품은 없습니다.\")\n",
        "print(store)"
      ],
      "metadata": {
        "colab": {
          "base_uri": "https://localhost:8080/"
        },
        "id": "rF6yZjfpG0Nc",
        "outputId": "b3c6fe5e-69f0-4f4f-c181-4dbbb2afdcf7"
      },
      "execution_count": 5,
      "outputs": [
        {
          "output_type": "stream",
          "name": "stdout",
          "text": [
            "*** 물품과 재고량 입력 ***\n",
            "입력 물품 : 코카콜라\n",
            "재고량 : 10\n",
            "입력 물품 : 새우깡\n",
            "재고량 : 21\n",
            "입력 물품 : 꼬북칩\n",
            "재고량 : 20\n",
            "입력 물품 : z\n",
            "*** 물품과 재고량 확인 ***\n",
            "찾을 물품 : 우\n",
            "그런 물품은 없습니다.\n",
            "찾을 물품 : 코카콜라\n",
            "10 개 남았습니다.\n",
            "찾을 물품 : \n",
            "{'코카콜라': 10, '새우깡': 21, '꼬북칩': 20}\n"
          ]
        }
      ]
    },
    {
      "cell_type": "code",
      "source": [
        "!pip3 install ColabTurtle\n",
        "import ColabTurtle.Turtle as turtle\n",
        "import random\n",
        "myT = []\n",
        "shapeList = [\"circle\", \"turtle\"]\n",
        "colorList = [\"red\", \"blue\",\"yellow\", \"black\", \"green\"]\n",
        "turtle.initializeTurtle()\n",
        "for i in range(0,100) :\n",
        "  color = random.choice(colorList)\n",
        "  shap = random.choice(shapeList)\n",
        "  x = random.randint(0,750)\n",
        "  y = random.randint(0,550)\n",
        "  myturtle = turtle.turtle_shape = shap\n",
        "  tup = (myturtle, color, x, y)\n",
        "  myT.append(tup)\n",
        "  \n",
        "for t in myT :\n",
        "  turtle.color(t[1])\n",
        "  turtle.goto(t[2], t[3])\n",
        "  turtle.home()\n",
        "#help(turtle)"
      ],
      "metadata": {
        "colab": {
          "base_uri": "https://localhost:8080/",
          "height": 940
        },
        "id": "XxBF_nE2JGbF",
        "outputId": "0881fdc5-fee3-4fe7-f954-46eebdcd20d4"
      },
      "execution_count": 9,
      "outputs": [
        {
          "output_type": "stream",
          "name": "stdout",
          "text": [
            "Looking in indexes: https://pypi.org/simple, https://us-python.pkg.dev/colab-wheels/public/simple/\n",
            "Requirement already satisfied: ColabTurtle in /usr/local/lib/python3.7/dist-packages (2.1.0)\n"
          ]
        },
        {
          "output_type": "display_data",
          "data": {
            "text/plain": [
              "<IPython.core.display.HTML object>"
            ],
            "text/html": [
              "\n",
              "      <svg width=\"800\" height=\"500\">\n",
              "        <rect width=\"100%\" height=\"100%\" fill=\"black\"/>\n",
              "        <line x1=\"400\" y1=\"250\" x2=\"294\" y2=\"245\" stroke-linecap=\"round\" style=\"stroke:green;stroke-width:4\"/><line x1=\"294\" y1=\"245\" x2=\"400\" y2=\"250\" stroke-linecap=\"round\" style=\"stroke:green;stroke-width:4\"/><line x1=\"400\" y1=\"250\" x2=\"156\" y2=\"370\" stroke-linecap=\"round\" style=\"stroke:green;stroke-width:4\"/><line x1=\"156\" y1=\"370\" x2=\"400\" y2=\"250\" stroke-linecap=\"round\" style=\"stroke:green;stroke-width:4\"/><line x1=\"400\" y1=\"250\" x2=\"618\" y2=\"217\" stroke-linecap=\"round\" style=\"stroke:black;stroke-width:4\"/><line x1=\"618\" y1=\"217\" x2=\"400\" y2=\"250\" stroke-linecap=\"round\" style=\"stroke:black;stroke-width:4\"/><line x1=\"400\" y1=\"250\" x2=\"406\" y2=\"322\" stroke-linecap=\"round\" style=\"stroke:green;stroke-width:4\"/><line x1=\"406\" y1=\"322\" x2=\"400\" y2=\"250\" stroke-linecap=\"round\" style=\"stroke:green;stroke-width:4\"/><line x1=\"400\" y1=\"250\" x2=\"194\" y2=\"217\" stroke-linecap=\"round\" style=\"stroke:black;stroke-width:4\"/><line x1=\"194\" y1=\"217\" x2=\"400\" y2=\"250\" stroke-linecap=\"round\" style=\"stroke:black;stroke-width:4\"/><line x1=\"400\" y1=\"250\" x2=\"13\" y2=\"247\" stroke-linecap=\"round\" style=\"stroke:black;stroke-width:4\"/><line x1=\"13\" y1=\"247\" x2=\"400\" y2=\"250\" stroke-linecap=\"round\" style=\"stroke:black;stroke-width:4\"/><line x1=\"400\" y1=\"250\" x2=\"595\" y2=\"435\" stroke-linecap=\"round\" style=\"stroke:blue;stroke-width:4\"/><line x1=\"595\" y1=\"435\" x2=\"400\" y2=\"250\" stroke-linecap=\"round\" style=\"stroke:blue;stroke-width:4\"/><line x1=\"400\" y1=\"250\" x2=\"115\" y2=\"254\" stroke-linecap=\"round\" style=\"stroke:red;stroke-width:4\"/><line x1=\"115\" y1=\"254\" x2=\"400\" y2=\"250\" stroke-linecap=\"round\" style=\"stroke:red;stroke-width:4\"/><line x1=\"400\" y1=\"250\" x2=\"215\" y2=\"197\" stroke-linecap=\"round\" style=\"stroke:red;stroke-width:4\"/><line x1=\"215\" y1=\"197\" x2=\"400\" y2=\"250\" stroke-linecap=\"round\" style=\"stroke:red;stroke-width:4\"/><line x1=\"400\" y1=\"250\" x2=\"196\" y2=\"80\" stroke-linecap=\"round\" style=\"stroke:red;stroke-width:4\"/><line x1=\"196\" y1=\"80\" x2=\"400\" y2=\"250\" stroke-linecap=\"round\" style=\"stroke:red;stroke-width:4\"/><line x1=\"400\" y1=\"250\" x2=\"24\" y2=\"467\" stroke-linecap=\"round\" style=\"stroke:yellow;stroke-width:4\"/><line x1=\"24\" y1=\"467\" x2=\"400\" y2=\"250\" stroke-linecap=\"round\" style=\"stroke:yellow;stroke-width:4\"/><line x1=\"400\" y1=\"250\" x2=\"302\" y2=\"350\" stroke-linecap=\"round\" style=\"stroke:yellow;stroke-width:4\"/><line x1=\"302\" y1=\"350\" x2=\"400\" y2=\"250\" stroke-linecap=\"round\" style=\"stroke:yellow;stroke-width:4\"/><line x1=\"400\" y1=\"250\" x2=\"577\" y2=\"487\" stroke-linecap=\"round\" style=\"stroke:green;stroke-width:4\"/><line x1=\"577\" y1=\"487\" x2=\"400\" y2=\"250\" stroke-linecap=\"round\" style=\"stroke:green;stroke-width:4\"/><line x1=\"400\" y1=\"250\" x2=\"551\" y2=\"490\" stroke-linecap=\"round\" style=\"stroke:green;stroke-width:4\"/><line x1=\"551\" y1=\"490\" x2=\"400\" y2=\"250\" stroke-linecap=\"round\" style=\"stroke:green;stroke-width:4\"/><line x1=\"400\" y1=\"250\" x2=\"267\" y2=\"353\" stroke-linecap=\"round\" style=\"stroke:yellow;stroke-width:4\"/><line x1=\"267\" y1=\"353\" x2=\"400\" y2=\"250\" stroke-linecap=\"round\" style=\"stroke:yellow;stroke-width:4\"/><line x1=\"400\" y1=\"250\" x2=\"180\" y2=\"90\" stroke-linecap=\"round\" style=\"stroke:black;stroke-width:4\"/><line x1=\"180\" y1=\"90\" x2=\"400\" y2=\"250\" stroke-linecap=\"round\" style=\"stroke:black;stroke-width:4\"/><line x1=\"400\" y1=\"250\" x2=\"257\" y2=\"379\" stroke-linecap=\"round\" style=\"stroke:red;stroke-width:4\"/><line x1=\"257\" y1=\"379\" x2=\"400\" y2=\"250\" stroke-linecap=\"round\" style=\"stroke:red;stroke-width:4\"/><line x1=\"400\" y1=\"250\" x2=\"43\" y2=\"144\" stroke-linecap=\"round\" style=\"stroke:yellow;stroke-width:4\"/><line x1=\"43\" y1=\"144\" x2=\"400\" y2=\"250\" stroke-linecap=\"round\" style=\"stroke:yellow;stroke-width:4\"/><line x1=\"400\" y1=\"250\" x2=\"151\" y2=\"251\" stroke-linecap=\"round\" style=\"stroke:yellow;stroke-width:4\"/><line x1=\"151\" y1=\"251\" x2=\"400\" y2=\"250\" stroke-linecap=\"round\" style=\"stroke:yellow;stroke-width:4\"/><line x1=\"400\" y1=\"250\" x2=\"226\" y2=\"542\" stroke-linecap=\"round\" style=\"stroke:red;stroke-width:4\"/><line x1=\"226\" y1=\"542\" x2=\"400\" y2=\"250\" stroke-linecap=\"round\" style=\"stroke:red;stroke-width:4\"/><line x1=\"400\" y1=\"250\" x2=\"524\" y2=\"523\" stroke-linecap=\"round\" style=\"stroke:black;stroke-width:4\"/><line x1=\"524\" y1=\"523\" x2=\"400\" y2=\"250\" stroke-linecap=\"round\" style=\"stroke:black;stroke-width:4\"/><line x1=\"400\" y1=\"250\" x2=\"57\" y2=\"492\" stroke-linecap=\"round\" style=\"stroke:red;stroke-width:4\"/><line x1=\"57\" y1=\"492\" x2=\"400\" y2=\"250\" stroke-linecap=\"round\" style=\"stroke:red;stroke-width:4\"/><line x1=\"400\" y1=\"250\" x2=\"258\" y2=\"34\" stroke-linecap=\"round\" style=\"stroke:yellow;stroke-width:4\"/><line x1=\"258\" y1=\"34\" x2=\"400\" y2=\"250\" stroke-linecap=\"round\" style=\"stroke:yellow;stroke-width:4\"/><line x1=\"400\" y1=\"250\" x2=\"208\" y2=\"545\" stroke-linecap=\"round\" style=\"stroke:green;stroke-width:4\"/><line x1=\"208\" y1=\"545\" x2=\"400\" y2=\"250\" stroke-linecap=\"round\" style=\"stroke:green;stroke-width:4\"/><line x1=\"400\" y1=\"250\" x2=\"570\" y2=\"58\" stroke-linecap=\"round\" style=\"stroke:yellow;stroke-width:4\"/><line x1=\"570\" y1=\"58\" x2=\"400\" y2=\"250\" stroke-linecap=\"round\" style=\"stroke:yellow;stroke-width:4\"/><line x1=\"400\" y1=\"250\" x2=\"57\" y2=\"245\" stroke-linecap=\"round\" style=\"stroke:red;stroke-width:4\"/><line x1=\"57\" y1=\"245\" x2=\"400\" y2=\"250\" stroke-linecap=\"round\" style=\"stroke:red;stroke-width:4\"/><line x1=\"400\" y1=\"250\" x2=\"284\" y2=\"178\" stroke-linecap=\"round\" style=\"stroke:black;stroke-width:4\"/><line x1=\"284\" y1=\"178\" x2=\"400\" y2=\"250\" stroke-linecap=\"round\" style=\"stroke:black;stroke-width:4\"/><line x1=\"400\" y1=\"250\" x2=\"409\" y2=\"384\" stroke-linecap=\"round\" style=\"stroke:red;stroke-width:4\"/><line x1=\"409\" y1=\"384\" x2=\"400\" y2=\"250\" stroke-linecap=\"round\" style=\"stroke:red;stroke-width:4\"/><line x1=\"400\" y1=\"250\" x2=\"459\" y2=\"444\" stroke-linecap=\"round\" style=\"stroke:green;stroke-width:4\"/><line x1=\"459\" y1=\"444\" x2=\"400\" y2=\"250\" stroke-linecap=\"round\" style=\"stroke:green;stroke-width:4\"/><line x1=\"400\" y1=\"250\" x2=\"355\" y2=\"12\" stroke-linecap=\"round\" style=\"stroke:green;stroke-width:4\"/><line x1=\"355\" y1=\"12\" x2=\"400\" y2=\"250\" stroke-linecap=\"round\" style=\"stroke:green;stroke-width:4\"/><line x1=\"400\" y1=\"250\" x2=\"722\" y2=\"444\" stroke-linecap=\"round\" style=\"stroke:yellow;stroke-width:4\"/><line x1=\"722\" y1=\"444\" x2=\"400\" y2=\"250\" stroke-linecap=\"round\" style=\"stroke:yellow;stroke-width:4\"/><line x1=\"400\" y1=\"250\" x2=\"405\" y2=\"337\" stroke-linecap=\"round\" style=\"stroke:black;stroke-width:4\"/><line x1=\"405\" y1=\"337\" x2=\"400\" y2=\"250\" stroke-linecap=\"round\" style=\"stroke:black;stroke-width:4\"/><line x1=\"400\" y1=\"250\" x2=\"559\" y2=\"474\" stroke-linecap=\"round\" style=\"stroke:black;stroke-width:4\"/><line x1=\"559\" y1=\"474\" x2=\"400\" y2=\"250\" stroke-linecap=\"round\" style=\"stroke:black;stroke-width:4\"/><line x1=\"400\" y1=\"250\" x2=\"156\" y2=\"273\" stroke-linecap=\"round\" style=\"stroke:red;stroke-width:4\"/><line x1=\"156\" y1=\"273\" x2=\"400\" y2=\"250\" stroke-linecap=\"round\" style=\"stroke:red;stroke-width:4\"/><line x1=\"400\" y1=\"250\" x2=\"211\" y2=\"372\" stroke-linecap=\"round\" style=\"stroke:green;stroke-width:4\"/><line x1=\"211\" y1=\"372\" x2=\"400\" y2=\"250\" stroke-linecap=\"round\" style=\"stroke:green;stroke-width:4\"/><line x1=\"400\" y1=\"250\" x2=\"712\" y2=\"260\" stroke-linecap=\"round\" style=\"stroke:blue;stroke-width:4\"/><line x1=\"712\" y1=\"260\" x2=\"400\" y2=\"250\" stroke-linecap=\"round\" style=\"stroke:blue;stroke-width:4\"/><line x1=\"400\" y1=\"250\" x2=\"590\" y2=\"182\" stroke-linecap=\"round\" style=\"stroke:green;stroke-width:4\"/><line x1=\"590\" y1=\"182\" x2=\"400\" y2=\"250\" stroke-linecap=\"round\" style=\"stroke:green;stroke-width:4\"/><line x1=\"400\" y1=\"250\" x2=\"100\" y2=\"364\" stroke-linecap=\"round\" style=\"stroke:red;stroke-width:4\"/><line x1=\"100\" y1=\"364\" x2=\"400\" y2=\"250\" stroke-linecap=\"round\" style=\"stroke:red;stroke-width:4\"/><line x1=\"400\" y1=\"250\" x2=\"275\" y2=\"261\" stroke-linecap=\"round\" style=\"stroke:black;stroke-width:4\"/><line x1=\"275\" y1=\"261\" x2=\"400\" y2=\"250\" stroke-linecap=\"round\" style=\"stroke:black;stroke-width:4\"/><line x1=\"400\" y1=\"250\" x2=\"462\" y2=\"203\" stroke-linecap=\"round\" style=\"stroke:green;stroke-width:4\"/><line x1=\"462\" y1=\"203\" x2=\"400\" y2=\"250\" stroke-linecap=\"round\" style=\"stroke:green;stroke-width:4\"/><line x1=\"400\" y1=\"250\" x2=\"31\" y2=\"313\" stroke-linecap=\"round\" style=\"stroke:red;stroke-width:4\"/><line x1=\"31\" y1=\"313\" x2=\"400\" y2=\"250\" stroke-linecap=\"round\" style=\"stroke:red;stroke-width:4\"/><line x1=\"400\" y1=\"250\" x2=\"575\" y2=\"477\" stroke-linecap=\"round\" style=\"stroke:yellow;stroke-width:4\"/><line x1=\"575\" y1=\"477\" x2=\"400\" y2=\"250\" stroke-linecap=\"round\" style=\"stroke:yellow;stroke-width:4\"/><line x1=\"400\" y1=\"250\" x2=\"568\" y2=\"323\" stroke-linecap=\"round\" style=\"stroke:yellow;stroke-width:4\"/><line x1=\"568\" y1=\"323\" x2=\"400\" y2=\"250\" stroke-linecap=\"round\" style=\"stroke:yellow;stroke-width:4\"/><line x1=\"400\" y1=\"250\" x2=\"569\" y2=\"228\" stroke-linecap=\"round\" style=\"stroke:green;stroke-width:4\"/><line x1=\"569\" y1=\"228\" x2=\"400\" y2=\"250\" stroke-linecap=\"round\" style=\"stroke:green;stroke-width:4\"/><line x1=\"400\" y1=\"250\" x2=\"321\" y2=\"251\" stroke-linecap=\"round\" style=\"stroke:red;stroke-width:4\"/><line x1=\"321\" y1=\"251\" x2=\"400\" y2=\"250\" stroke-linecap=\"round\" style=\"stroke:red;stroke-width:4\"/><line x1=\"400\" y1=\"250\" x2=\"260\" y2=\"491\" stroke-linecap=\"round\" style=\"stroke:blue;stroke-width:4\"/><line x1=\"260\" y1=\"491\" x2=\"400\" y2=\"250\" stroke-linecap=\"round\" style=\"stroke:blue;stroke-width:4\"/><line x1=\"400\" y1=\"250\" x2=\"598\" y2=\"439\" stroke-linecap=\"round\" style=\"stroke:black;stroke-width:4\"/><line x1=\"598\" y1=\"439\" x2=\"400\" y2=\"250\" stroke-linecap=\"round\" style=\"stroke:black;stroke-width:4\"/><line x1=\"400\" y1=\"250\" x2=\"657\" y2=\"151\" stroke-linecap=\"round\" style=\"stroke:yellow;stroke-width:4\"/><line x1=\"657\" y1=\"151\" x2=\"400\" y2=\"250\" stroke-linecap=\"round\" style=\"stroke:yellow;stroke-width:4\"/><line x1=\"400\" y1=\"250\" x2=\"552\" y2=\"69\" stroke-linecap=\"round\" style=\"stroke:yellow;stroke-width:4\"/><line x1=\"552\" y1=\"69\" x2=\"400\" y2=\"250\" stroke-linecap=\"round\" style=\"stroke:yellow;stroke-width:4\"/><line x1=\"400\" y1=\"250\" x2=\"676\" y2=\"483\" stroke-linecap=\"round\" style=\"stroke:blue;stroke-width:4\"/><line x1=\"676\" y1=\"483\" x2=\"400\" y2=\"250\" stroke-linecap=\"round\" style=\"stroke:blue;stroke-width:4\"/><line x1=\"400\" y1=\"250\" x2=\"243\" y2=\"247\" stroke-linecap=\"round\" style=\"stroke:green;stroke-width:4\"/><line x1=\"243\" y1=\"247\" x2=\"400\" y2=\"250\" stroke-linecap=\"round\" style=\"stroke:green;stroke-width:4\"/><line x1=\"400\" y1=\"250\" x2=\"604\" y2=\"16\" stroke-linecap=\"round\" style=\"stroke:green;stroke-width:4\"/><line x1=\"604\" y1=\"16\" x2=\"400\" y2=\"250\" stroke-linecap=\"round\" style=\"stroke:green;stroke-width:4\"/><line x1=\"400\" y1=\"250\" x2=\"91\" y2=\"298\" stroke-linecap=\"round\" style=\"stroke:red;stroke-width:4\"/><line x1=\"91\" y1=\"298\" x2=\"400\" y2=\"250\" stroke-linecap=\"round\" style=\"stroke:red;stroke-width:4\"/><line x1=\"400\" y1=\"250\" x2=\"199\" y2=\"63\" stroke-linecap=\"round\" style=\"stroke:yellow;stroke-width:4\"/><line x1=\"199\" y1=\"63\" x2=\"400\" y2=\"250\" stroke-linecap=\"round\" style=\"stroke:yellow;stroke-width:4\"/><line x1=\"400\" y1=\"250\" x2=\"374\" y2=\"108\" stroke-linecap=\"round\" style=\"stroke:black;stroke-width:4\"/><line x1=\"374\" y1=\"108\" x2=\"400\" y2=\"250\" stroke-linecap=\"round\" style=\"stroke:black;stroke-width:4\"/><line x1=\"400\" y1=\"250\" x2=\"233\" y2=\"492\" stroke-linecap=\"round\" style=\"stroke:yellow;stroke-width:4\"/><line x1=\"233\" y1=\"492\" x2=\"400\" y2=\"250\" stroke-linecap=\"round\" style=\"stroke:yellow;stroke-width:4\"/><line x1=\"400\" y1=\"250\" x2=\"473\" y2=\"56\" stroke-linecap=\"round\" style=\"stroke:red;stroke-width:4\"/><line x1=\"473\" y1=\"56\" x2=\"400\" y2=\"250\" stroke-linecap=\"round\" style=\"stroke:red;stroke-width:4\"/><line x1=\"400\" y1=\"250\" x2=\"1\" y2=\"230\" stroke-linecap=\"round\" style=\"stroke:red;stroke-width:4\"/><line x1=\"1\" y1=\"230\" x2=\"400\" y2=\"250\" stroke-linecap=\"round\" style=\"stroke:red;stroke-width:4\"/><line x1=\"400\" y1=\"250\" x2=\"347\" y2=\"62\" stroke-linecap=\"round\" style=\"stroke:blue;stroke-width:4\"/><line x1=\"347\" y1=\"62\" x2=\"400\" y2=\"250\" stroke-linecap=\"round\" style=\"stroke:blue;stroke-width:4\"/><line x1=\"400\" y1=\"250\" x2=\"466\" y2=\"254\" stroke-linecap=\"round\" style=\"stroke:green;stroke-width:4\"/><line x1=\"466\" y1=\"254\" x2=\"400\" y2=\"250\" stroke-linecap=\"round\" style=\"stroke:green;stroke-width:4\"/><line x1=\"400\" y1=\"250\" x2=\"294\" y2=\"200\" stroke-linecap=\"round\" style=\"stroke:green;stroke-width:4\"/><line x1=\"294\" y1=\"200\" x2=\"400\" y2=\"250\" stroke-linecap=\"round\" style=\"stroke:green;stroke-width:4\"/><line x1=\"400\" y1=\"250\" x2=\"744\" y2=\"359\" stroke-linecap=\"round\" style=\"stroke:blue;stroke-width:4\"/><line x1=\"744\" y1=\"359\" x2=\"400\" y2=\"250\" stroke-linecap=\"round\" style=\"stroke:blue;stroke-width:4\"/><line x1=\"400\" y1=\"250\" x2=\"579\" y2=\"139\" stroke-linecap=\"round\" style=\"stroke:green;stroke-width:4\"/><line x1=\"579\" y1=\"139\" x2=\"400\" y2=\"250\" stroke-linecap=\"round\" style=\"stroke:green;stroke-width:4\"/><line x1=\"400\" y1=\"250\" x2=\"700\" y2=\"374\" stroke-linecap=\"round\" style=\"stroke:blue;stroke-width:4\"/><line x1=\"700\" y1=\"374\" x2=\"400\" y2=\"250\" stroke-linecap=\"round\" style=\"stroke:blue;stroke-width:4\"/>\n",
              "        <g visibility=visible transform=\"rotate(360,400,250) translate(382, 232)\">\n",
              "<path style=\" stroke:none;fill-rule:evenodd;fill:blue;fill-opacity:1;\" d=\"M 18.214844 0.632812 C 16.109375 1.800781 15.011719 4.074219 15.074219 7.132812 L 15.085938 7.652344 L 14.785156 7.496094 C 13.476562 6.824219 11.957031 6.671875 10.40625 7.066406 C 8.46875 7.550781 6.515625 9.15625 4.394531 11.992188 C 3.0625 13.777344 2.679688 14.636719 3.042969 15.027344 L 3.15625 15.152344 L 3.519531 15.152344 C 4.238281 15.152344 4.828125 14.886719 8.1875 13.039062 C 9.386719 12.378906 10.371094 11.839844 10.378906 11.839844 C 10.386719 11.839844 10.355469 11.929688 10.304688 12.035156 C 9.832031 13.09375 9.257812 14.820312 8.96875 16.078125 C 7.914062 20.652344 8.617188 24.53125 11.070312 27.660156 C 11.351562 28.015625 11.363281 27.914062 10.972656 28.382812 C 8.925781 30.84375 7.945312 33.28125 8.238281 35.1875 C 8.289062 35.527344 8.28125 35.523438 8.917969 35.523438 C 10.941406 35.523438 13.074219 34.207031 15.136719 31.6875 C 15.359375 31.417969 15.328125 31.425781 15.5625 31.574219 C 16.292969 32.042969 18.023438 32.964844 18.175781 32.964844 C 18.335938 32.964844 19.941406 32.210938 20.828125 31.71875 C 20.996094 31.625 21.136719 31.554688 21.136719 31.558594 C 21.203125 31.664062 21.898438 32.414062 22.222656 32.730469 C 23.835938 34.300781 25.5625 35.132812 27.582031 35.300781 C 27.90625 35.328125 27.9375 35.308594 28.007812 34.984375 C 28.382812 33.242188 27.625 30.925781 25.863281 28.425781 L 25.542969 27.96875 L 25.699219 27.785156 C 28.945312 23.960938 29.132812 18.699219 26.257812 11.96875 L 26.207031 11.84375 L 27.945312 12.703125 C 31.53125 14.476562 32.316406 14.800781 33.03125 14.800781 C 33.976562 14.800781 33.78125 13.9375 32.472656 12.292969 C 28.519531 7.355469 25.394531 5.925781 21.921875 7.472656 L 21.558594 7.636719 L 21.578125 7.542969 C 21.699219 6.992188 21.761719 5.742188 21.699219 5.164062 C 21.496094 3.296875 20.664062 1.964844 19.003906 0.855469 C 18.480469 0.503906 18.457031 0.5 18.214844 0.632812\"/>\n",
              "</g>\n",
              "      </svg>\n",
              "    "
            ]
          },
          "metadata": {}
        },
        {
          "output_type": "error",
          "ename": "KeyboardInterrupt",
          "evalue": "ignored",
          "traceback": [
            "\u001b[0;31m---------------------------------------------------------------------------\u001b[0m",
            "\u001b[0;31mKeyboardInterrupt\u001b[0m                         Traceback (most recent call last)",
            "\u001b[0;32m<ipython-input-9-74fa7817efca>\u001b[0m in \u001b[0;36m<module>\u001b[0;34m\u001b[0m\n\u001b[1;32m     16\u001b[0m \u001b[0;34m\u001b[0m\u001b[0m\n\u001b[1;32m     17\u001b[0m \u001b[0;32mfor\u001b[0m \u001b[0mt\u001b[0m \u001b[0;32min\u001b[0m \u001b[0mmyT\u001b[0m \u001b[0;34m:\u001b[0m\u001b[0;34m\u001b[0m\u001b[0;34m\u001b[0m\u001b[0m\n\u001b[0;32m---> 18\u001b[0;31m   \u001b[0mturtle\u001b[0m\u001b[0;34m.\u001b[0m\u001b[0mcolor\u001b[0m\u001b[0;34m(\u001b[0m\u001b[0mt\u001b[0m\u001b[0;34m[\u001b[0m\u001b[0;36m1\u001b[0m\u001b[0;34m]\u001b[0m\u001b[0;34m)\u001b[0m\u001b[0;34m\u001b[0m\u001b[0;34m\u001b[0m\u001b[0m\n\u001b[0m\u001b[1;32m     19\u001b[0m   \u001b[0mturtle\u001b[0m\u001b[0;34m.\u001b[0m\u001b[0mgoto\u001b[0m\u001b[0;34m(\u001b[0m\u001b[0mt\u001b[0m\u001b[0;34m[\u001b[0m\u001b[0;36m2\u001b[0m\u001b[0;34m]\u001b[0m\u001b[0;34m,\u001b[0m \u001b[0mt\u001b[0m\u001b[0;34m[\u001b[0m\u001b[0;36m3\u001b[0m\u001b[0;34m]\u001b[0m\u001b[0;34m)\u001b[0m\u001b[0;34m\u001b[0m\u001b[0;34m\u001b[0m\u001b[0m\n\u001b[1;32m     20\u001b[0m   \u001b[0mturtle\u001b[0m\u001b[0;34m.\u001b[0m\u001b[0mhome\u001b[0m\u001b[0;34m(\u001b[0m\u001b[0;34m)\u001b[0m\u001b[0;34m\u001b[0m\u001b[0;34m\u001b[0m\u001b[0m\n",
            "\u001b[0;32m/usr/local/lib/python3.7/dist-packages/ColabTurtle/Turtle.py\u001b[0m in \u001b[0;36mcolor\u001b[0;34m(color, c2, c3)\u001b[0m\n\u001b[1;32m    410\u001b[0m \u001b[0;34m\u001b[0m\u001b[0m\n\u001b[1;32m    411\u001b[0m     \u001b[0mpen_color\u001b[0m \u001b[0;34m=\u001b[0m \u001b[0m_processColor\u001b[0m\u001b[0;34m(\u001b[0m\u001b[0mcolor\u001b[0m\u001b[0;34m)\u001b[0m\u001b[0;34m\u001b[0m\u001b[0;34m\u001b[0m\u001b[0m\n\u001b[0;32m--> 412\u001b[0;31m     \u001b[0m_updateDrawing\u001b[0m\u001b[0;34m(\u001b[0m\u001b[0;34m)\u001b[0m\u001b[0;34m\u001b[0m\u001b[0;34m\u001b[0m\u001b[0m\n\u001b[0m\u001b[1;32m    413\u001b[0m \u001b[0;34m\u001b[0m\u001b[0m\n\u001b[1;32m    414\u001b[0m \u001b[0mpencolor\u001b[0m \u001b[0;34m=\u001b[0m \u001b[0mcolor\u001b[0m\u001b[0;34m\u001b[0m\u001b[0;34m\u001b[0m\u001b[0m\n",
            "\u001b[0;32m/usr/local/lib/python3.7/dist-packages/ColabTurtle/Turtle.py\u001b[0m in \u001b[0;36m_updateDrawing\u001b[0;34m()\u001b[0m\n\u001b[1;32m    143\u001b[0m     \u001b[0;32mif\u001b[0m \u001b[0mdrawing_window\u001b[0m \u001b[0;34m==\u001b[0m \u001b[0;32mNone\u001b[0m\u001b[0;34m:\u001b[0m\u001b[0;34m\u001b[0m\u001b[0;34m\u001b[0m\u001b[0m\n\u001b[1;32m    144\u001b[0m         \u001b[0;32mraise\u001b[0m \u001b[0mAttributeError\u001b[0m\u001b[0;34m(\u001b[0m\u001b[0;34m\"Display has not been initialized yet. Call initializeTurtle() before using.\"\u001b[0m\u001b[0;34m)\u001b[0m\u001b[0;34m\u001b[0m\u001b[0;34m\u001b[0m\u001b[0m\n\u001b[0;32m--> 145\u001b[0;31m     \u001b[0mtime\u001b[0m\u001b[0;34m.\u001b[0m\u001b[0msleep\u001b[0m\u001b[0;34m(\u001b[0m\u001b[0m_speedToSec\u001b[0m\u001b[0;34m(\u001b[0m\u001b[0mturtle_speed\u001b[0m\u001b[0;34m)\u001b[0m\u001b[0;34m)\u001b[0m\u001b[0;34m\u001b[0m\u001b[0;34m\u001b[0m\u001b[0m\n\u001b[0m\u001b[1;32m    146\u001b[0m     \u001b[0mdrawing_window\u001b[0m\u001b[0;34m.\u001b[0m\u001b[0mupdate\u001b[0m\u001b[0;34m(\u001b[0m\u001b[0mHTML\u001b[0m\u001b[0;34m(\u001b[0m\u001b[0m_generateSvgDrawing\u001b[0m\u001b[0;34m(\u001b[0m\u001b[0;34m)\u001b[0m\u001b[0;34m)\u001b[0m\u001b[0;34m)\u001b[0m\u001b[0;34m\u001b[0m\u001b[0;34m\u001b[0m\u001b[0m\n\u001b[1;32m    147\u001b[0m \u001b[0;34m\u001b[0m\u001b[0m\n",
            "\u001b[0;31mKeyboardInterrupt\u001b[0m: "
          ]
        }
      ]
    }
  ]
}