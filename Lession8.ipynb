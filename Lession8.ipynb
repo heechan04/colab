{
  "nbformat": 4,
  "nbformat_minor": 0,
  "metadata": {
    "colab": {
      "provenance": [],
      "authorship_tag": "ABX9TyMqqi1pT4Ade7Bd36s2ZtE7",
      "include_colab_link": true
    },
    "kernelspec": {
      "name": "python3",
      "display_name": "Python 3"
    },
    "language_info": {
      "name": "python"
    }
  },
  "cells": [
    {
      "cell_type": "markdown",
      "metadata": {
        "id": "view-in-github",
        "colab_type": "text"
      },
      "source": [
        "<a href=\"https://colab.research.google.com/github/heechan04/colab/blob/main/Lession8.ipynb\" target=\"_parent\"><img src=\"https://colab.research.google.com/assets/colab-badge.svg\" alt=\"Open In Colab\"/></a>"
      ]
    },
    {
      "cell_type": "code",
      "execution_count": 1,
      "metadata": {
        "colab": {
          "base_uri": "https://localhost:8080/"
        },
        "id": "HBNEX1Nz4JB3",
        "outputId": "77912b63-16f7-41ef-cc43-c199a67580c0"
      },
      "outputs": [
        {
          "output_type": "stream",
          "name": "stdout",
          "text": [
            "100과 200의 plus()함수 결과는  300\n"
          ]
        }
      ],
      "source": [
        "def plus(v1, v2) :\n",
        "  result = 0\n",
        "  result = v1 + v2\n",
        "\n",
        "  return result\n",
        "\n",
        "hap = 0\n",
        "\n",
        "hap = plus(100,200)\n",
        "print(\"100과 200의 plus()함수 결과는 \", hap)"
      ]
    },
    {
      "cell_type": "code",
      "source": [
        "def calc(op, num1, num2) :\n",
        "  if op == \"+\" :\n",
        "    return num1 + num2\n",
        "  elif op == \"-\" :\n",
        "    return num1 - num2\n",
        "  elif op == \"*\" :\n",
        "    return num1 * num2\n",
        "  elif op == \"/\" :\n",
        "    return num1 / num2\n",
        "op = input(\"계산 입력 (+, -, *, /) : \")\n",
        "num1 = int(input(\"첫 번째 숫자 입력 : \"))\n",
        "num2 = int(input(\"두 번째 숫자 입력 : \"))\n",
        "\n",
        "print(\"## 계산기 : \", num1, op, num2,\"=\",calc(op,num1,num2))"
      ],
      "metadata": {
        "colab": {
          "base_uri": "https://localhost:8080/"
        },
        "id": "CO8y7ZNW5DEU",
        "outputId": "fab93e89-9de5-4c3b-fb54-220142ea5f44"
      },
      "execution_count": 2,
      "outputs": [
        {
          "output_type": "stream",
          "name": "stdout",
          "text": [
            "계산 입력 (+, -, *, /) : -\n",
            "첫 번째 숫자 입력 : 56\n",
            "두 번째 숫자 입력 : 34\n",
            "## 계산기 :  56 - 34 = 22\n"
          ]
        }
      ]
    },
    {
      "cell_type": "code",
      "source": [
        "import random\n",
        "\n",
        "lotto_num = []\n",
        "\n",
        "def lotto() :\n",
        "  rnd = random.randint(1,45)\n",
        "  return rnd\n",
        "\n",
        "while True :\n",
        "  rnd = lotto()\n",
        "  if rnd in lotto_num :\n",
        "    pass\n",
        "  else :\n",
        "    lotto_num.append(lotto())\n",
        "  \n",
        "  if len(lotto_num) == 6 :\n",
        "    break\n",
        "\n",
        "print(lotto_num)"
      ],
      "metadata": {
        "colab": {
          "base_uri": "https://localhost:8080/"
        },
        "id": "Kqi3ziM8-LLN",
        "outputId": "a609abf3-f6d6-4d07-f3cc-c9f3c2962ba5"
      },
      "execution_count": 6,
      "outputs": [
        {
          "output_type": "stream",
          "name": "stdout",
          "text": [
            "[39, 26, 5, 30, 23, 35]\n"
          ]
        }
      ]
    },
    {
      "cell_type": "code",
      "source": [
        "from datetime import date\n",
        "from datetime import datetime\n",
        "from datetime import timedelta\n",
        "\n",
        "today = date.fromisoformat('2022-10-07')\n",
        "now = datetime.now()\n",
        "after = timedelta(days=100)\n",
        "\n",
        "birth = datetime(2004,12,10)\n",
        "print(now - birth)\n"
      ],
      "metadata": {
        "colab": {
          "base_uri": "https://localhost:8080/"
        },
        "id": "o4Ql4_tn_PaG",
        "outputId": "b9be0261-48c1-4fbb-c098-ba3eea1ff101"
      },
      "execution_count": 11,
      "outputs": [
        {
          "output_type": "stream",
          "name": "stdout",
          "text": [
            "6510 days, 6:21:21.506815\n"
          ]
        }
      ]
    }
  ]
}