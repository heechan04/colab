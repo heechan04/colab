{
  "nbformat": 4,
  "nbformat_minor": 0,
  "metadata": {
    "colab": {
      "name": "Lession_4.ipynb",
      "provenance": [],
      "authorship_tag": "ABX9TyPZBGQu/t+NdWKf5T6VmQes",
      "include_colab_link": true
    },
    "kernelspec": {
      "name": "python3",
      "display_name": "Python 3"
    },
    "language_info": {
      "name": "python"
    }
  },
  "cells": [
    {
      "cell_type": "markdown",
      "metadata": {
        "id": "view-in-github",
        "colab_type": "text"
      },
      "source": [
        "<a href=\"https://colab.research.google.com/github/heechan04/colab/blob/main/Lession_4.ipynb\" target=\"_parent\"><img src=\"https://colab.research.google.com/assets/colab-badge.svg\" alt=\"Open In Colab\"/></a>"
      ]
    },
    {
      "cell_type": "markdown",
      "source": [
        "데이터 타입 예제"
      ],
      "metadata": {
        "id": "1d2JVv_SNMkt"
      }
    },
    {
      "cell_type": "code",
      "execution_count": null,
      "metadata": {
        "colab": {
          "base_uri": "https://localhost:8080/"
        },
        "id": "lOceH3mEMtut",
        "outputId": "c1a77d3b-826e-4195-c0d9-20a66431003c"
      },
      "outputs": [
        {
          "output_type": "stream",
          "name": "stdout",
          "text": [
            "var1 의 타입은 <class 'int'>\n",
            "var2 의 타입은 <class 'float'>\n",
            "var3 의 타입은 <class 'str'>\n",
            "var4 의 타입은 <class 'bool'>\n"
          ]
        }
      ],
      "source": [
        "var1 = 100\n",
        "var2 = 3.14\n",
        "var3 = \"안산공고\"\n",
        "var4 = True\n",
        "\n",
        "print(\"var1 의 타입은\", type(var1))\n",
        "print(\"var2 의 타입은\", type(var2))\n",
        "print(\"var3 의 타입은\", type(var3))\n",
        "print(\"var4 의 타입은\", type(var4))"
      ]
    },
    {
      "cell_type": "markdown",
      "source": [],
      "metadata": {
        "id": "UcXpQr4WdrHr"
      }
    },
    {
      "cell_type": "code",
      "source": [
        "str1 = input(\"문자열 입력 : \")\n",
        "print(\"입력된 문자열의 길이 : \", len(str1))\n",
        "print(\"입력된 문자열을 대문자로 변환 : \", str1.upper())\n",
        "print(\"입력된 문자열을 소문자로 변환 : \", str1.lower())\n",
        "print(\"입력된 문자열 중 ansan 몇번 나오는지 : \", str1.count(\"ansan\"))\n",
        "print(\"입력된 문자열은 대문자인가요?\", str1.isupper())\n",
        "print(\"입력된 문자열은 소문자인가요?\", str1.islower())"
      ],
      "metadata": {
        "colab": {
          "base_uri": "https://localhost:8080/"
        },
        "id": "VQJIZKYldre7",
        "outputId": "21545e3a-91e7-400e-fa63-b9470de1d9ab"
      },
      "execution_count": null,
      "outputs": [
        {
          "output_type": "stream",
          "name": "stdout",
          "text": [
            "문자열 입력 : 오늘은 금요일, 내일은 토요일 have a nice day!\n",
            "입력된 문자열의 길이 :  33\n",
            "입력된 문자열을 대문자로 변환 :  오늘은 금요일, 내일은 토요일 HAVE A NICE DAY!\n",
            "입력된 문자열을 소문자로 변환 :  오늘은 금요일, 내일은 토요일 have a nice day!\n",
            "입력된 문자열 중 ansan 몇번 나오는지 :  0\n",
            "입력된 문자열은 대문자인가요? False\n",
            "입력된 문자열 True\n"
          ]
        }
      ]
    },
    {
      "cell_type": "code",
      "source": [
        "lyrics = \"\"\"\n",
        "When I find myself in times of trouble\n",
        "Mother Mary comes to me\n",
        "Speaking words of wisdom\n",
        "Let it be\n",
        "And in my hour of darkness\n",
        "She is standing right in front of me\n",
        "Speaking words of wisdom\n",
        "Let it be\n",
        "Let is be, let it be\n",
        "Let it be, let it be\n",
        "Whisper words of wisdom\n",
        "Let it be\n",
        "And when the brokenhearted people\n",
        "Living in the world agree\n",
        "There will be an answer\n",
        "Let it be\n",
        "For though they may be parted\n",
        "There is still a chance that they will see\n",
        "There will be an answer\n",
        "Let it be\n",
        "Let is be, let it be\n",
        "Let it be, let it be\n",
        "Yeah, there will be an answer\n",
        "Let it be\n",
        "Let is be, let it be\n",
        "Let it be, let it be\n",
        "Whisper words of wisdom\n",
        "Let it be\n",
        "Let is be, let it be\n",
        "Let it be, yeah, let it be\n",
        "Whisper words of wisdom\n",
        "Let it be\n",
        "And when the night is cloudy\n",
        "There is still a light that shines on me\n",
        "Shine on 'til tomorrow\n",
        "Let it be\n",
        "I wake up to the sound of music\n",
        "Mother Mary comes to me\n",
        "Speaking words of wisdom\n",
        "Let it be, yeah\n",
        "Let it be, let it be\n",
        "Let it be, yeah, let it be\n",
        "Oh, there will be an answer\n",
        "Let it be\n",
        "Let it be, let it be\n",
        "Let it be, yeah, let it be\n",
        "Whisper words of wisdom\n",
        "Let it be\n",
        "\"\"\"\n",
        "lyrics = lyrics.upper()\n",
        "count = lyrics.count(\"LET IT BE\")\n",
        "print(\"Let it Be 노래에서 'Let it be' 라는 단어는 총 \", count, \"번 나옵니다.\")"
      ],
      "metadata": {
        "colab": {
          "base_uri": "https://localhost:8080/"
        },
        "id": "11swknWogmRq",
        "outputId": "f95671dd-febd-4b86-b34b-e1cf723769dc"
      },
      "execution_count": null,
      "outputs": [
        {
          "output_type": "stream",
          "name": "stdout",
          "text": [
            "Let it Be 노래에서 'Let it be' 라는 단어는 총  32 번 나옵니다.\n"
          ]
        }
      ]
    },
    {
      "cell_type": "code",
      "source": [
        "lyrics = \"\"\"\n",
        "Yesterday\n",
        "All my trouble seemed so far away\n",
        "Now it looks as though they're here to stay\n",
        "Oh, I believe in yesterday\n",
        "Suddenly\n",
        "I'm not half the man I used to be\n",
        "There's a shadow hanging over me\n",
        "Oh, yesterday came suddenly\n",
        "Why she had to go, I don't know\n",
        "She wouldn't say\n",
        "I said something wrong\n",
        "Now I long for yesterday\n",
        "Yesterday\n",
        "Love was such an easy game to play\n",
        "Now I need a place to hide away\n",
        "Oh, I believe in yesterday\n",
        "Why she had to go, I don't know\n",
        "She wouldn't say\n",
        "I said something wrong\n",
        "Now I long for yesterday\n",
        "Yesterday\n",
        "Love was such an easy game to play\n",
        "Now I need a place to hide away\n",
        "Oh, I believe in yesterday\n",
        "\"\"\"\n",
        "lyrics = lyrics.upper()\n",
        "count = lyrics.count(\"YESTERDAY\")\n",
        "print(\"Yesterday 노래에서 'Yesterday' 라는 단어는 총\" ,count,\"번 나옵니다.\")"
      ],
      "metadata": {
        "colab": {
          "base_uri": "https://localhost:8080/"
        },
        "id": "r5nWE_pkj7Ez",
        "outputId": "37ec39aa-05fb-48c1-f155-f9a83cc053b4"
      },
      "execution_count": null,
      "outputs": [
        {
          "output_type": "stream",
          "name": "stdout",
          "text": [
            "Yesterday 노래에서 'Yesterday' 라는 단어는 총 9 번 나옵니다.\n"
          ]
        }
      ]
    },
    {
      "cell_type": "markdown",
      "source": [
        "리스트 연습"
      ],
      "metadata": {
        "id": "eQ1d8JdJl9cC"
      }
    },
    {
      "cell_type": "code",
      "source": [
        "myList = [\"안산공고\", \"컴퓨터\", 3, 1, 2022]\n",
        "#print(myList)\n",
        "print(myList[4])"
      ],
      "metadata": {
        "colab": {
          "base_uri": "https://localhost:8080/"
        },
        "id": "yCqiG-Jhks1K",
        "outputId": "50ca6b26-224b-4e6f-9555-e77afd11a13c"
      },
      "execution_count": null,
      "outputs": [
        {
          "output_type": "stream",
          "name": "stdout",
          "text": [
            "2022\n"
          ]
        }
      ]
    },
    {
      "cell_type": "markdown",
      "source": [
        "문자열 예제"
      ],
      "metadata": {
        "id": "NHcuGrC0mpFC"
      }
    },
    {
      "cell_type": "code",
      "source": [
        "str1 = \"Ansan Technical High School\"\n",
        "print(str1[15:20])"
      ],
      "metadata": {
        "colab": {
          "base_uri": "https://localhost:8080/"
        },
        "id": "lSUGG8ECmkFb",
        "outputId": "ad861cfd-5ec1-4451-c4c1-9a438a705bf3"
      },
      "execution_count": null,
      "outputs": [
        {
          "output_type": "stream",
          "name": "stdout",
          "text": [
            " High\n"
          ]
        }
      ]
    },
    {
      "cell_type": "code",
      "source": [
        "while True :\n",
        "  str1 = input(\"문자열 입력 : \")\n",
        "  if str1 == \"q\" :\n",
        "    break\n",
        "  print(str1)"
      ],
      "metadata": {
        "colab": {
          "base_uri": "https://localhost:8080/"
        },
        "id": "0t4Bseomn0Qh",
        "outputId": "dbf28e18-4eb7-4c7c-b396-38a07dc91e75"
      },
      "execution_count": null,
      "outputs": [
        {
          "name": "stdout",
          "output_type": "stream",
          "text": [
            "문자열 입력 : ansan\n",
            "ansan\n",
            "문자열 입력 : muyaho\n",
            "muyaho\n",
            "문자열 입력 : q\n"
          ]
        }
      ]
    },
    {
      "cell_type": "code",
      "source": [
        "singer = input(\"가수 이름을 입력 : \")\n",
        "singer_len = len(singer)\n",
        "r_singer = \" \"\n",
        "while singer_len > 0 :\n",
        "  r_singer = r_singer + singer[singer_len-1]\n",
        "  singer_len = singer_len - 1\n",
        "print(\"가수 이름을 거꾸로 출력 : \", r_singer)"
      ],
      "metadata": {
        "colab": {
          "base_uri": "https://localhost:8080/"
        },
        "id": "zWKJB-1xrCKS",
        "outputId": "4c442b51-1e44-4ee0-9404-96d590b57b2f"
      },
      "execution_count": 28,
      "outputs": [
        {
          "output_type": "stream",
          "name": "stdout",
          "text": [
            "가수 이름을 입력 : 트와이스\n",
            "가수 이름을 거꾸로 출력 :   스이와트\n"
          ]
        }
      ]
    },
    {
      "cell_type": "code",
      "source": [
        "str1 = input(\"\")\n",
        "str2 = \"\"\n",
        "for i in range(len(str1)) :\n",
        "  if str1[i].isupper() :\n",
        "    str2 = str2 + str1[i].lower()\n",
        "  else :\n",
        "    str2 = str2 + str1[i].upper()\n",
        "print(\"변경한 문자열 : \", str2)"
      ],
      "metadata": {
        "colab": {
          "base_uri": "https://localhost:8080/"
        },
        "id": "KLTOfu2quLQp",
        "outputId": "474d8e8c-d85d-4851-d7df-d0d799df550b"
      },
      "execution_count": 38,
      "outputs": [
        {
          "output_type": "stream",
          "name": "stdout",
          "text": [
            "AAAaaA\n",
            "변경한 문자열 :  aaaAAa\n"
          ]
        }
      ]
    }
  ]
}