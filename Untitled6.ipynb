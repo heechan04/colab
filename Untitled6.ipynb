{
  "nbformat": 4,
  "nbformat_minor": 0,
  "metadata": {
    "colab": {
      "provenance": [],
      "authorship_tag": "ABX9TyNPf6G+Dt/h6DNBfKbOZIjU",
      "include_colab_link": true
    },
    "kernelspec": {
      "name": "python3",
      "display_name": "Python 3"
    },
    "language_info": {
      "name": "python"
    }
  },
  "cells": [
    {
      "cell_type": "markdown",
      "metadata": {
        "id": "view-in-github",
        "colab_type": "text"
      },
      "source": [
        "<a href=\"https://colab.research.google.com/github/heechan04/colab/blob/main/Untitled6.ipynb\" target=\"_parent\"><img src=\"https://colab.research.google.com/assets/colab-badge.svg\" alt=\"Open In Colab\"/></a>"
      ]
    },
    {
      "cell_type": "code",
      "execution_count": 1,
      "metadata": {
        "colab": {
          "base_uri": "https://localhost:8080/"
        },
        "id": "HBNEX1Nz4JB3",
        "outputId": "77912b63-16f7-41ef-cc43-c199a67580c0"
      },
      "outputs": [
        {
          "output_type": "stream",
          "name": "stdout",
          "text": [
            "100과 200의 plus()함수 결과는  300\n"
          ]
        }
      ],
      "source": [
        "def plus(v1, v2) :\n",
        "  result = 0\n",
        "  result = v1 + v2\n",
        "\n",
        "  return result\n",
        "\n",
        "hap = 0\n",
        "\n",
        "hap = plus(100,200)\n",
        "print(\"100과 200의 plus()함수 결과는 \", hap)"
      ]
    }
  ]
}