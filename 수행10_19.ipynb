{
  "nbformat": 4,
  "nbformat_minor": 0,
  "metadata": {
    "colab": {
      "provenance": [],
      "authorship_tag": "ABX9TyMotwRVrMxvw4kzqgC1R7T6",
      "include_colab_link": true
    },
    "kernelspec": {
      "name": "python3",
      "display_name": "Python 3"
    },
    "language_info": {
      "name": "python"
    }
  },
  "cells": [
    {
      "cell_type": "markdown",
      "metadata": {
        "id": "view-in-github",
        "colab_type": "text"
      },
      "source": [
        "<a href=\"https://colab.research.google.com/github/heechan04/colab/blob/main/%EC%88%98%ED%96%8910_19.ipynb\" target=\"_parent\"><img src=\"https://colab.research.google.com/assets/colab-badge.svg\" alt=\"Open In Colab\"/></a>"
      ]
    },
    {
      "cell_type": "code",
      "execution_count": null,
      "metadata": {
        "colab": {
          "base_uri": "https://localhost:8080/"
        },
        "id": "o_BsRu-j_PmQ",
        "outputId": "d667de9a-47ea-404a-c30e-501ad4be595b"
      },
      "outputs": [
        {
          "output_type": "stream",
          "name": "stdout",
          "text": [
            "숫자를 입력 ==> 1773\n",
            "홀수입니다.\n"
          ]
        }
      ],
      "source": [
        "num = int(input(\"숫자를 입력 ==> \"))\n",
        "if num % 2 == 0 :\n",
        "  print(\"짝수입니다.\")\n",
        "else :\n",
        "  print(\"홀수입니다.\")"
      ]
    },
    {
      "cell_type": "code",
      "source": [
        "num = int(input(\"숫자를 입력 ==> \"))\n",
        "if num >= 100 :\n",
        "  if num <= 1000 :\n",
        "    print(\"100에서 1000 사이다.\")\n",
        "  else :\n",
        "    print(\"1000보다 크다.\")\n",
        "else :\n",
        "  print(\"100보다 작다.\")"
      ],
      "metadata": {
        "colab": {
          "base_uri": "https://localhost:8080/"
        },
        "id": "6vWU6R6uA8za",
        "outputId": "bf6daf62-6be7-4d7e-a67b-907530864514"
      },
      "execution_count": null,
      "outputs": [
        {
          "output_type": "stream",
          "name": "stdout",
          "text": [
            "숫자를 입력 ==> 150\n",
            "100에서 1000 사이다.\n"
          ]
        }
      ]
    },
    {
      "cell_type": "code",
      "source": [
        "score = int(input(\"점수를 입력 ==> \"))\n",
        "if score >= 90 :\n",
        "  print(\"A학점입니다.\")\n",
        "elif score >= 80 :\n",
        "  print(\"B학점입니다.\")\n",
        "elif score >= 70 :\n",
        "  print(\"C학점입니다.\")\n",
        "elif score >= 60 :\n",
        "  print(\"D학점입니다.\")\n",
        "else :\n",
        "  print(\"F학점입니다.\")"
      ],
      "metadata": {
        "colab": {
          "base_uri": "https://localhost:8080/"
        },
        "id": "9nxAN49XDjra",
        "outputId": "28ac21da-8c7e-4c85-e111-de375d5b5d88"
      },
      "execution_count": null,
      "outputs": [
        {
          "output_type": "stream",
          "name": "stdout",
          "text": [
            "점수를 입력 ==> 77\n",
            "C학점입니다.\n"
          ]
        }
      ]
    },
    {
      "cell_type": "code",
      "source": [
        "import random\n",
        "\n",
        "myHand = input(\"나의 가위/바위/보 ==>\")\n",
        "comHand = random.choice([\"가위\", \"바위\", \"보\"])\n",
        "print(\"컴퓨터의 가위/바위/보 ==> \", comHand)\n",
        "\n",
        "if myHand == comHand :\n",
        "  print(\"비겼습니다.\")\n",
        "elif (myHand == \"가위\" and comHand == \"보\") or \\\n",
        "     (myHand == \"바위\" and comHand == \"가위\")or \\\n",
        "     (myHand == \"보\" and comHand == \"바위\") :\n",
        "     print(\"이겼습니다.\")\n",
        "else :\n",
        "  print(\"졌습니다.\")"
      ],
      "metadata": {
        "colab": {
          "base_uri": "https://localhost:8080/"
        },
        "id": "rMyyDwP8Fxzy",
        "outputId": "43a28378-711c-41a3-e1b6-8d7d7f17b234"
      },
      "execution_count": 31,
      "outputs": [
        {
          "output_type": "stream",
          "name": "stdout",
          "text": [
            "나의 가위/바위/보 ==>바위\n",
            "컴퓨터의 가위/바위/보 ==>  가위\n",
            "이겼습니다.\n"
          ]
        }
      ]
    }
  ]
}