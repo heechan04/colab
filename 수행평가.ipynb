{
  "nbformat": 4,
  "nbformat_minor": 0,
  "metadata": {
    "colab": {
      "provenance": [],
      "authorship_tag": "ABX9TyOEIpFvKl6QFq+byR0dNNv/",
      "include_colab_link": true
    },
    "kernelspec": {
      "name": "python3",
      "display_name": "Python 3"
    },
    "language_info": {
      "name": "python"
    }
  },
  "cells": [
    {
      "cell_type": "markdown",
      "metadata": {
        "id": "view-in-github",
        "colab_type": "text"
      },
      "source": [
        "<a href=\"https://colab.research.google.com/github/heechan04/colab/blob/main/%EC%88%98%ED%96%89%ED%8F%89%EA%B0%80.ipynb\" target=\"_parent\"><img src=\"https://colab.research.google.com/assets/colab-badge.svg\" alt=\"Open In Colab\"/></a>"
      ]
    },
    {
      "cell_type": "code",
      "execution_count": 16,
      "metadata": {
        "colab": {
          "base_uri": "https://localhost:8080/"
        },
        "id": "k88-LsdzuVGG",
        "outputId": "2a45652b-2b21-48cc-ab9b-f24d97584a04"
      },
      "outputs": [
        {
          "output_type": "stream",
          "name": "stdout",
          "text": [
            "Python\n",
            "5\n",
            "원본 문자열 ==>  Python\n",
            "변환 문자열 ==>  python\n"
          ]
        }
      ],
      "source": [
        "str1 = input(\"\")\n",
        "str2 = \"\"\n",
        "for i in range (len(str1)) :\n",
        "  if str1[i].islower :\n",
        "    str2 = str2 + str1[i].lower()\n",
        "  else :\n",
        "    str2 = str2 + str1[i].upper()\n",
        "print(\"원본 문자열 ==> \", str1)\n",
        "print(\"변환 문자열 ==> \", str2)"
      ]
    },
    {
      "cell_type": "code",
      "source": [
        "text = input(\"\")\n",
        "text_len = len(text)\n",
        "r_text = \"\"\n",
        "while text_len > 0 :\n",
        "  r_text = r_text + text[text_len-1]\n",
        "  text_len-= 1\n",
        "print(r_text)"
      ],
      "metadata": {
        "colab": {
          "base_uri": "https://localhost:8080/"
        },
        "id": "WLItzlHCvJl1",
        "outputId": "9137006b-9c05-45ac-8459-934eb446d2cb"
      },
      "execution_count": 14,
      "outputs": [
        {
          "output_type": "stream",
          "name": "stdout",
          "text": [
            "트와이스\n",
            "스이와트\n"
          ]
        }
      ]
    }
  ]
}