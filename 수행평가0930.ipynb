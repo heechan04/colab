{
  "nbformat": 4,
  "nbformat_minor": 0,
  "metadata": {
    "colab": {
      "provenance": [],
      "authorship_tag": "ABX9TyPJtU2tkKdo5DMXaQocUprU",
      "include_colab_link": true
    },
    "kernelspec": {
      "name": "python3",
      "display_name": "Python 3"
    },
    "language_info": {
      "name": "python"
    }
  },
  "cells": [
    {
      "cell_type": "markdown",
      "metadata": {
        "id": "view-in-github",
        "colab_type": "text"
      },
      "source": [
        "<a href=\"https://colab.research.google.com/github/heechan04/colab/blob/main/%EC%88%98%ED%96%89%ED%8F%89%EA%B0%800930.ipynb\" target=\"_parent\"><img src=\"https://colab.research.google.com/assets/colab-badge.svg\" alt=\"Open In Colab\"/></a>"
      ]
    },
    {
      "cell_type": "code",
      "execution_count": 18,
      "metadata": {
        "colab": {
          "base_uri": "https://localhost:8080/"
        },
        "id": "k88-LsdzuVGG",
        "outputId": "f15a1140-af68-4e4f-e9a7-da6f9ea3962e"
      },
      "outputs": [
        {
          "output_type": "stream",
          "name": "stdout",
          "text": [
            "Python\n",
            "원본 문자열 ==>  Python\n",
            "변환 문자열 ==>  pYTHON\n"
          ]
        }
      ],
      "source": [
        "str1 = input(\"\")\n",
        "str2 = \"\"\n",
        "for i in range (len(str1)) :\n",
        "  if str1[i].isupper() :\n",
        "    str2 = str2 + str1[i].lower()\n",
        "  else :\n",
        "    str2 = str2 + str1[i].upper()\n",
        "print(\"원본 문자열 ==> \", str1)\n",
        "print(\"변환 문자열 ==> \", str2)"
      ]
    },
    {
      "cell_type": "code",
      "source": [
        "text = input(\"\")\n",
        "text_len = len(text)\n",
        "r_text = \"\"\n",
        "while text_len > 0 :\n",
        "  r_text = r_text + text[text_len-1]\n",
        "  text_len-= 1\n",
        "print(r_text)"
      ],
      "metadata": {
        "colab": {
          "base_uri": "https://localhost:8080/"
        },
        "id": "WLItzlHCvJl1",
        "outputId": "9137006b-9c05-45ac-8459-934eb446d2cb"
      },
      "execution_count": 14,
      "outputs": [
        {
          "output_type": "stream",
          "name": "stdout",
          "text": [
            "트와이스\n",
            "스이와트\n"
          ]
        }
      ]
    },
    {
      "cell_type": "code",
      "source": [
        "text1 = input(\"\")\n",
        "text2 = input(\"\")\n",
        "text1_len = len(text1)\n",
        "text2_len = len(text2)\n",
        "text = text1_len - text2_len\n",
        "print(\"첫 번째 문자열 ==>\", text1)\n",
        "print(\"두 번째 문자열 ==>\", text2)\n",
        "print(\"두 문자열의 길이 차이는\", text,\"입니다.\")"
      ],
      "metadata": {
        "colab": {
          "base_uri": "https://localhost:8080/"
        },
        "id": "Z0huGkjg6_Os",
        "outputId": "40ff2c01-60e7-46b2-d601-e2fe2086dc43"
      },
      "execution_count": 19,
      "outputs": [
        {
          "output_type": "stream",
          "name": "stdout",
          "text": [
            "난생처음 파이썬\n",
            "First Python\n",
            "첫 번째 문자열 ==> 난생처음 파이썬\n",
            "두 번째 문자열 ==> First Python\n",
            "두 문자열의 길이 차이는 -4 입니다.\n"
          ]
        }
      ]
    }
  ]
}